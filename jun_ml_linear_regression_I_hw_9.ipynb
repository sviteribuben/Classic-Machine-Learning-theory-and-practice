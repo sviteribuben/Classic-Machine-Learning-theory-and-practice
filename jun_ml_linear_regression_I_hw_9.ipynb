{
  "nbformat": 4,
  "nbformat_minor": 0,
  "metadata": {
    "colab": {
      "name": "jun_ml_linear_regression_I_hw_9.ipynb",
      "provenance": [],
      "collapsed_sections": [],
      "include_colab_link": true
    },
    "kernelspec": {
      "display_name": "Python 3",
      "language": "python",
      "name": "python3"
    },
    "language_info": {
      "codemirror_mode": {
        "name": "ipython",
        "version": 3
      },
      "file_extension": ".py",
      "mimetype": "text/x-python",
      "name": "python",
      "nbconvert_exporter": "python",
      "pygments_lexer": "ipython3",
      "version": "3.6.3"
    }
  },
  "cells": [
    {
      "cell_type": "markdown",
      "metadata": {
        "id": "view-in-github",
        "colab_type": "text"
      },
      "source": [
        "<a href=\"https://colab.research.google.com/github/sviteribuben/ML_01/blob/main/jun_ml_linear_regression_I_hw_9.ipynb\" target=\"_parent\"><img src=\"https://colab.research.google.com/assets/colab-badge.svg\" alt=\"Open In Colab\"/></a>"
      ]
    },
    {
      "cell_type": "markdown",
      "metadata": {
        "id": "9zmQCpvzzeTK"
      },
      "source": [
        "### Урок 9. Домашняя работа\n",
        "\n",
        "Даны точки $x$ и значения в этих точках $y$. Нормализуйте $y$ с помощью *z-score* и постройте график зависимости нормализованных значений от $x$. Для графика используйте `.scatter(x,y_tansformed)`"
      ]
    },
    {
      "cell_type": "code",
      "metadata": {
        "id": "O8W9tZnFzeTL",
        "colab": {
          "base_uri": "https://localhost:8080/",
          "height": 265
        },
        "outputId": "b2484f1b-5e9c-4842-85c3-a25b0ecfec78"
      },
      "source": [
        "import numpy as np\n",
        "from sklearn.preprocessing import StandardScaler\n",
        "from matplotlib import pyplot as plt\n",
        "\n",
        "x = np.linspace(1,10,num=10)\n",
        "y = np.array(\n",
        "    [1.,  3.,  4.,  2., 10.,  5.,  5.,  2.,  5., 10.],\n",
        "    dtype=np.float32\n",
        ")\n",
        "\n",
        "# -- ВАШ КОД ТУТ --\n",
        "\n",
        "plt.scatter(x, y)\n",
        "plt.show(); # данные распределены не равномерно. применим нормализацию"
      ],
      "execution_count": null,
      "outputs": [
        {
          "output_type": "display_data",
          "data": {
            "image/png": "[encoded data removed]",
            "text/plain": [
              "<Figure size 432x288 with 1 Axes>"
            ]
          },
          "metadata": {
            "tags": [],
            "needs_background": "light"
          }
        }
      ]
    },
    {
      "cell_type": "code",
      "metadata": {
        "colab": {
          "base_uri": "https://localhost:8080/"
        },
        "id": "VQdXycV6VQ3Y",
        "outputId": "aa891f60-928c-457b-d1bf-31ff820f4891"
      },
      "source": [
        "y_tansformed = StandardScaler().fit_transform(x.reshape(-1, 1)).reshape(-1)\n",
        "print(\"y_tansformed: %s\" % y_tansformed)"
      ],
      "execution_count": null,
      "outputs": [
        {
          "output_type": "stream",
          "text": [
            "y_tansformed: [-1.5666989  -1.21854359 -0.87038828 -0.52223297 -0.17407766  0.17407766\n",
            "  0.52223297  0.87038828  1.21854359  1.5666989 ]\n"
          ],
          "name": "stdout"
        }
      ]
    },
    {
      "cell_type": "code",
      "metadata": {
        "colab": {
          "base_uri": "https://localhost:8080/",
          "height": 265
        },
        "id": "Lv0gkg-VWJe-",
        "outputId": "41e73641-81d1-49ef-ee5f-bcba933fab48"
      },
      "source": [
        "plt.scatter(x, y_tansformed)\n",
        "plt.show();"
      ],
      "execution_count": null,
      "outputs": [
        {
          "output_type": "display_data",
          "data": {
            "image/png": "[encoded data removed]",
            "text/plain": [
              "<Figure size 432x288 with 1 Axes>"
            ]
          },
          "metadata": {
            "tags": [],
            "needs_background": "light"
          }
        }
      ]
    },
    {
      "cell_type": "code",
      "metadata": {
        "id": "l8PWCF5IjKB6"
      },
      "source": [
        ""
      ],
      "execution_count": null,
      "outputs": []
    }
  ]
}