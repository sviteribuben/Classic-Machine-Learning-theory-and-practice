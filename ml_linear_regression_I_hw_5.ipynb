{
  "nbformat": 4,
  "nbformat_minor": 0,
  "metadata": {
    "kernelspec": {
      "display_name": "Python 3",
      "language": "python",
      "name": "python3"
    },
    "language_info": {
      "codemirror_mode": {
        "name": "ipython",
        "version": 3
      },
      "file_extension": ".py",
      "mimetype": "text/x-python",
      "name": "python",
      "nbconvert_exporter": "python",
      "pygments_lexer": "ipython3",
      "version": "3.6.3"
    },
    "colab": {
      "name": "HW_jun_ml_linear_regression_I_hw_5.ipynb",
      "provenance": [],
      "collapsed_sections": [],
      "include_colab_link": true
    }
  },
  "cells": [
    {
      "cell_type": "markdown",
      "metadata": {
        "id": "view-in-github",
        "colab_type": "text"
      },
      "source": [
        "<a href=\"https://colab.research.google.com/github/sviteribuben/ML_01/blob/main/ml_linear_regression_I_hw_5.ipynb\" target=\"_parent\"><img src=\"https://colab.research.google.com/assets/colab-badge.svg\" alt=\"Open In Colab\"/></a>"
      ]
    },
    {
      "cell_type": "markdown",
      "metadata": {
        "id": "WAyRDni_6GHU"
      },
      "source": [
        "### Урок 5. Домашняя работа\n",
        "\n",
        "Есть два набора точек - *x_hw* и *y_hw*. В рамках домашней работы нужно\n",
        "* визуализировать набор точек\n",
        "* найти коэффициенты регрессии $w_0, w_1$ по шагам, как в уроке\n",
        "* посчитать предсказание в виде $\\hat{y} = w_0 + w_1x$ и визуализировать его вместе с точками *x_hw* и *y_hw*"
      ]
    },
    {
      "cell_type": "code",
      "metadata": {
        "id": "74wa1k6p6GHf"
      },
      "source": [
        "x_hw = [50, 60, 70, 100]\n",
        "y_hw = [10, 15, 40, 45]"
      ],
      "execution_count": null,
      "outputs": []
    },
    {
      "cell_type": "code",
      "metadata": {
        "id": "VYdn_174VvVl"
      },
      "source": [
        "### Тут нужно сделать импорты всех необходимых библиотек ###\r\n",
        "import numpy as np\r\n",
        "import pandas as pd\r\n",
        "\r\n",
        "import matplotlib\r\n",
        "import matplotlib.pyplot as plt\r\n",
        "from numpy.linalg import inv"
      ],
      "execution_count": null,
      "outputs": []
    },
    {
      "cell_type": "code",
      "metadata": {
        "id": "Ji0T7EgHWFM8",
        "colab": {
          "base_uri": "https://localhost:8080/",
          "height": 592
        },
        "outputId": "191acebe-4bee-43fa-e1a5-a806120be383"
      },
      "source": [
        "fig = plt.figure(figsize=(10, 10))\r\n",
        "ax = plt.axes()\r\n",
        "ax.scatter(x_hw, y_hw, alpha=0.8, )\r\n",
        "plt.show()"
      ],
      "execution_count": null,
      "outputs": [
        {
          "output_type": "display_data",
          "data": {
            "image/png": "[encoded data removed]",
            "text/plain": [
              "<Figure size 720x720 with 1 Axes>"
            ]
          },
          "metadata": {
            "tags": [],
            "needs_background": "light"
          }
        }
      ]
    },
    {
      "cell_type": "code",
      "metadata": {
        "id": "wkvzgpjrWMb8",
        "colab": {
          "base_uri": "https://localhost:8080/"
        },
        "outputId": "8c20f364-a71f-4733-cf96-fa854ab06b15"
      },
      "source": [
        "# X matrix\r\n",
        "X = np.array([[1, 50],[1, 60],[1, 70],[1, 100]])\r\n",
        "\r\n",
        "X"
      ],
      "execution_count": null,
      "outputs": [
        {
          "output_type": "execute_result",
          "data": {
            "text/plain": [
              "array([[  1,  50],\n",
              "       [  1,  60],\n",
              "       [  1,  70],\n",
              "       [  1, 100]])"
            ]
          },
          "metadata": {
            "tags": []
          },
          "execution_count": 4
        }
      ]
    },
    {
      "cell_type": "code",
      "metadata": {
        "colab": {
          "base_uri": "https://localhost:8080/"
        },
        "id": "s20RdVcJ8j2R",
        "outputId": "f19e90dc-3918-4835-eeb8-e2ff59841eb1"
      },
      "source": [
        "# Y vector\r\n",
        "Y = np.array([[10],[15],[40],[45]])\r\n",
        "\r\n",
        "Y"
      ],
      "execution_count": null,
      "outputs": [
        {
          "output_type": "execute_result",
          "data": {
            "text/plain": [
              "array([[10],\n",
              "       [15],\n",
              "       [40],\n",
              "       [45]])"
            ]
          },
          "metadata": {
            "tags": []
          },
          "execution_count": 5
        }
      ]
    },
    {
      "cell_type": "code",
      "metadata": {
        "colab": {
          "base_uri": "https://localhost:8080/"
        },
        "id": "FOziAId58x7g",
        "outputId": "5971f065-700f-4ecc-e78d-eadb8cda8203"
      },
      "source": [
        "# Выписываем формулу по кусочкам. Сначала перемножим матрицу объекты-признаки саму на себя\r\n",
        "X_T_X = (X.T).dot(X)\r\n",
        "\r\n",
        "X_T_X"
      ],
      "execution_count": null,
      "outputs": [
        {
          "output_type": "execute_result",
          "data": {
            "text/plain": [
              "array([[    4,   280],\n",
              "       [  280, 21000]])"
            ]
          },
          "metadata": {
            "tags": []
          },
          "execution_count": 6
        }
      ]
    },
    {
      "cell_type": "code",
      "metadata": {
        "colab": {
          "base_uri": "https://localhost:8080/"
        },
        "id": "4syfHaqz89Lw",
        "outputId": "d9d64bba-5aa0-4858-c4c6-209d1673bc72"
      },
      "source": [
        "# Теперь найдём обратную матрицу к ней.\r\n",
        "X_T_X_inverted = inv(X_T_X)\r\n",
        "\r\n",
        "X_T_X_inverted"
      ],
      "execution_count": null,
      "outputs": [
        {
          "output_type": "execute_result",
          "data": {
            "text/plain": [
              "array([[ 3.75000000e+00, -5.00000000e-02],\n",
              "       [-5.00000000e-02,  7.14285714e-04]])"
            ]
          },
          "metadata": {
            "tags": []
          },
          "execution_count": 8
        }
      ]
    },
    {
      "cell_type": "code",
      "metadata": {
        "colab": {
          "base_uri": "https://localhost:8080/"
        },
        "id": "C_gRA-GU9M0Y",
        "outputId": "c75e23cb-3292-42ce-878c-8867e9f49ac3"
      },
      "source": [
        "# полная формула\r\n",
        "w = X_T_X_inverted.dot(X.T).dot(Y)\r\n",
        "print(f'w_0 = {w[0][0]:.5f}, w_1 = {w[1][0]:.2f}')"
      ],
      "execution_count": null,
      "outputs": [
        {
          "output_type": "stream",
          "text": [
            "w_0 = -22.50000, w_1 = 0.71\n"
          ],
          "name": "stdout"
        }
      ]
    },
    {
      "cell_type": "markdown",
      "metadata": {
        "id": "cLFIveA__FEg"
      },
      "source": [
        "$y = -22.5 + 0.71\\cdot x$."
      ]
    },
    {
      "cell_type": "code",
      "metadata": {
        "id": "PIx_neoG9ZdH"
      },
      "source": [
        "# вспомогательные вел\r\n",
        "margin = 10\r\n",
        "X_min = 30\r\n",
        "X_max = X[:,1].max()+margin\r\n",
        "\r\n",
        "# набор точек, чтобы нарисовать прямую\r\n",
        "X_support = np.linspace(X_min, X_max, num=100)\r\n",
        "# предсказания нашей модели\r\n",
        "Y_model = w[0][0] + w[1][0]*X_support"
      ],
      "execution_count": null,
      "outputs": []
    },
    {
      "cell_type": "code",
      "metadata": {
        "colab": {
          "base_uri": "https://localhost:8080/",
          "height": 592
        },
        "id": "mUB2DiLn_QZf",
        "outputId": "971a3766-9be5-487f-ca15-65e0a3f124e0"
      },
      "source": [
        "# настройка графика \r\n",
        "fig = plt.figure(figsize=(10, 10))\r\n",
        "plt.xlim(X_min, X_max)\r\n",
        "plt.ylim(0, Y[:,0].max() + margin)\r\n",
        "# рисуем исходные точки\r\n",
        "plt.scatter(X[:,1], Y[:,0], 40, 'c', 'o', alpha=0.8)\r\n",
        "# предсказания модели\r\n",
        "plt.plot(X_support, Y_model, 'r')\r\n",
        "\r\n",
        "plt.show()"
      ],
      "execution_count": null,
      "outputs": [
        {
          "output_type": "display_data",
          "data": {
            "image/png": "[encoded data removed]",
            "text/plain": [
              "<Figure size 720x720 with 1 Axes>"
            ]
          },
          "metadata": {
            "tags": [],
            "needs_background": "light"
          }
        }
      ]
    },
    {
      "cell_type": "code",
      "metadata": {
        "id": "hShVzd1f_Z2o"
      },
      "source": [
        ""
      ],
      "execution_count": null,
      "outputs": []
    }
  ]
}