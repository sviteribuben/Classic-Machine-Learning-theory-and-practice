{
  "nbformat": 4,
  "nbformat_minor": 0,
  "metadata": {
    "kernelspec": {
      "display_name": "Python 3",
      "language": "python",
      "name": "python3"
    },
    "language_info": {
      "codemirror_mode": {
        "name": "ipython",
        "version": 3
      },
      "file_extension": ".py",
      "mimetype": "text/x-python",
      "name": "python",
      "nbconvert_exporter": "python",
      "pygments_lexer": "ipython3",
      "version": "3.6.3"
    },
    "colab": {
      "name": "jun_ml_EDA_hw.ipynb",
      "provenance": [],
      "collapsed_sections": [],
      "include_colab_link": true
    }
  },
  "cells": [
    {
      "cell_type": "markdown",
      "metadata": {
        "id": "view-in-github",
        "colab_type": "text"
      },
      "source": [
        "<a href=\"https://colab.research.google.com/github/sviteribuben/ML_01/blob/main/jun_ml_EDA_hw.ipynb\" target=\"_parent\"><img src=\"https://colab.research.google.com/assets/colab-badge.svg\" alt=\"Open In Colab\"/></a>"
      ]
    },
    {
      "cell_type": "markdown",
      "metadata": {
        "id": "ORsCe1f4zI_Q"
      },
      "source": [
        "## Разведочный анализ\n",
        "\n",
        "Подключитесь к базе данных PostgreSQL и выгрузите таблицу `exploratory`, сохранив ее в датафрейм. <br> <br>\n",
        "Параметры для подключения следующие: хост – `dsstudents.skillbox.ru`, порт – `5432`, имя базы данных – `db_ds_students`, пользователь – `readonly`, пароль – `6hajV34RTQfmxhS`."
      ]
    },
    {
      "cell_type": "code",
      "metadata": {
        "id": "4YZ4OlFAxXDy"
      },
      "source": [
        "# Required imports\r\n",
        "import pandas as pd\r\n",
        "import psycopg2"
      ],
      "execution_count": 22,
      "outputs": []
    },
    {
      "cell_type": "code",
      "metadata": {
        "colab": {
          "base_uri": "https://localhost:8080/",
          "height": 204
        },
        "id": "-ZQxnsySxkbx",
        "outputId": "135e98b0-eb9a-4ab1-8991-09b87ac53670"
      },
      "source": [
        "# Establish a connection to the database by creating a cursor object\r\n",
        "conn = psycopg2.connect(f\"host={'dsstudents.skillbox.ru'} port={5432} dbname={'db_ds_students'} user={'readonly'} password={'6hajV34RTQfmxhS'}\")\r\n",
        "# Get all values from the SQL request\r\n",
        "sql = \"select * from exploratory;\"\r\n",
        "# Create the DataFrame and print top-5\r\n",
        "dat = pd.read_sql_query(sql, conn)\r\n",
        "dat.head()"
      ],
      "execution_count": 23,
      "outputs": [
        {
          "output_type": "execute_result",
          "data": {
            "text/html": [
              "<div>\n",
              "<style scoped>\n",
              "    .dataframe tbody tr th:only-of-type {\n",
              "        vertical-align: middle;\n",
              "    }\n",
              "\n",
              "    .dataframe tbody tr th {\n",
              "        vertical-align: top;\n",
              "    }\n",
              "\n",
              "    .dataframe thead th {\n",
              "        text-align: right;\n",
              "    }\n",
              "</style>\n",
              "<table border=\"1\" class=\"dataframe\">\n",
              "  <thead>\n",
              "    <tr style=\"text-align: right;\">\n",
              "      <th></th>\n",
              "      <th>feature_1</th>\n",
              "      <th>feature_2</th>\n",
              "      <th>feature_3</th>\n",
              "      <th>feature_4</th>\n",
              "      <th>feature_5</th>\n",
              "    </tr>\n",
              "  </thead>\n",
              "  <tbody>\n",
              "    <tr>\n",
              "      <th>0</th>\n",
              "      <td>2.4399302341553932</td>\n",
              "      <td>-2.180960698389708</td>\n",
              "      <td>33.4684964804719</td>\n",
              "      <td>-1.9273880121739875</td>\n",
              "      <td>-5.3213919475057105</td>\n",
              "    </tr>\n",
              "    <tr>\n",
              "      <th>1</th>\n",
              "      <td>1.7705797495879034</td>\n",
              "      <td>-1.174880454210172</td>\n",
              "      <td>0.9895926481354946</td>\n",
              "      <td>-1.1396809115663187</td>\n",
              "      <td>-2.0802195404111687</td>\n",
              "    </tr>\n",
              "    <tr>\n",
              "      <th>2</th>\n",
              "      <td>0.7428169764168391</td>\n",
              "      <td>-0.2634829113111655</td>\n",
              "      <td>0.16814863490368492</td>\n",
              "      <td>-0.3324379721161745</td>\n",
              "      <td>-0.19571957951766614</td>\n",
              "    </tr>\n",
              "    <tr>\n",
              "      <th>3</th>\n",
              "      <td>-1.510891800324271</td>\n",
              "      <td>2.7125712625192238</td>\n",
              "      <td>-2.6856430298672915</td>\n",
              "      <td>2.0584952423727403</td>\n",
              "      <td>-4.098401678335551</td>\n",
              "    </tr>\n",
              "    <tr>\n",
              "      <th>4</th>\n",
              "      <td>-0.4835110394772655</td>\n",
              "      <td>0.096511221663355</td>\n",
              "      <td>-0.028703495808161117</td>\n",
              "      <td>0.1687629004635419</td>\n",
              "      <td>-0.04666424110766956</td>\n",
              "    </tr>\n",
              "  </tbody>\n",
              "</table>\n",
              "</div>"
            ],
            "text/plain": [
              "                        feature_1  ...                       feature_5\n",
              "0  2.4399302341553932              ...  -5.3213919475057105           \n",
              "1  1.7705797495879034              ...  -2.0802195404111687           \n",
              "2  0.7428169764168391              ...  -0.19571957951766614          \n",
              "3  -1.510891800324271              ...  -4.098401678335551            \n",
              "4  -0.4835110394772655             ...  -0.04666424110766956          \n",
              "\n",
              "[5 rows x 5 columns]"
            ]
          },
          "metadata": {
            "tags": []
          },
          "execution_count": 23
        }
      ]
    },
    {
      "cell_type": "code",
      "metadata": {
        "id": "QVR_Xho1zI_d"
      },
      "source": [
        "# ### YOUR CODE HERE ###\r\n",
        "# import psycopg2\r\n",
        "# import pandas as pd\r\n",
        "\r\n",
        "# # Establish a connection to the database by creating a cursor object\r\n",
        "# conn = psycopg2.connect(host=\"dsstudents.skillbox.ru\", port = 5432, database=\"db_ds_students\", user=\"readonly\", password=\"6hajV34RTQfmxhS\")\r\n",
        "\r\n",
        "# # Create a new cursor\r\n",
        "# cur = conn.cursor()\r\n",
        "\r\n",
        "# # # A function that takes in a PostgreSQL query and outputs a pandas database \r\n",
        "# def create_pandas_table(sql_query, database = conn):\r\n",
        "#     table = pd.read_sql_query(sql_query, database)\r\n",
        "#     return table\r\n",
        "  \r\n",
        "# # # Utilize the create_pandas_table function to create a Pandas dataframe\r\n",
        "# # # Store the data as a variable\r\n",
        "# exploratory = create_pandas_table(\"SELECT vendor_id, vendor_name FROM vendors ORDER BY vendor_name\")\r\n",
        "# exploratory\r\n",
        "\r\n",
        "# # # Close the cursor and connection to so the server can allocate\r\n",
        "# # # bandwidth to other requests\r\n",
        "# cur.close()\r\n",
        "# conn.close()"
      ],
      "execution_count": null,
      "outputs": []
    },
    {
      "cell_type": "code",
      "metadata": {
        "id": "lpjoeO-_vN6h"
      },
      "source": [
        ""
      ],
      "execution_count": null,
      "outputs": []
    },
    {
      "cell_type": "markdown",
      "metadata": {
        "id": "e3J8MfhCJFZo"
      },
      "source": [
        ""
      ]
    },
    {
      "cell_type": "markdown",
      "metadata": {
        "id": "qhtweauCzI_u"
      },
      "source": [
        "Постройте гистограммы распределения для каждой переменной. Поэксперементируйте с количеством \"разбивок\" (bins). Опишите распределение каждой переменной. В каких областях (пример: от нуля до 2 расположено примерно треть всех значений) сосредоточено больше значений, в каких меньше. "
      ]
    },
    {
      "cell_type": "code",
      "metadata": {
        "id": "7a3WnvanzI_y"
      },
      "source": [
        "### YOUR CODE HERE ###"
      ],
      "execution_count": null,
      "outputs": []
    },
    {
      "cell_type": "code",
      "metadata": {
        "id": "kZgqcDfdJUJp"
      },
      "source": [
        ""
      ],
      "execution_count": null,
      "outputs": []
    },
    {
      "cell_type": "markdown",
      "metadata": {
        "id": "Ve0XuZ2xzI_-"
      },
      "source": [
        "Постройте ящик с усами для каждой переменной. Опишите распределение данных. Прокомментируйте наличие или отсутствие выбросов."
      ]
    },
    {
      "cell_type": "code",
      "metadata": {
        "id": "lxUDLzT0zJAC"
      },
      "source": [
        "### YOUR CODE HERE ###"
      ],
      "execution_count": null,
      "outputs": []
    },
    {
      "cell_type": "markdown",
      "metadata": {
        "id": "97hwZ2clzJAO"
      },
      "source": [
        "Допустим, мы хотим построить регрессионную модель по имеющимся данным и исследовать влияние остальных переменных на переменную `feature_4`. Постройте диаграммы рассеяния. Определите по графикам, какие независимые переменные имело бы смысл включить в модель регрессии?"
      ]
    },
    {
      "cell_type": "code",
      "metadata": {
        "id": "vYHnmy-TzJAR"
      },
      "source": [
        "### YOUR CODE HERE ###"
      ],
      "execution_count": null,
      "outputs": []
    }
  ]
}