{
  "nbformat": 4,
  "nbformat_minor": 0,
  "metadata": {
    "colab": {
      "name": "homework_classification_2_les_2.ipynb",
      "provenance": [],
      "collapsed_sections": [],
      "include_colab_link": true
    },
    "kernelspec": {
      "display_name": "Python 3",
      "language": "python",
      "name": "python3"
    },
    "language_info": {
      "codemirror_mode": {
        "name": "ipython",
        "version": 3
      },
      "file_extension": ".py",
      "mimetype": "text/x-python",
      "name": "python",
      "nbconvert_exporter": "python",
      "pygments_lexer": "ipython3",
      "version": "3.6.3"
    }
  },
  "cells": [
    {
      "cell_type": "markdown",
      "metadata": {
        "id": "view-in-github",
        "colab_type": "text"
      },
      "source": [
        "<a href=\"https://colab.research.google.com/github/sviteribuben/ML_01/blob/main/homework_classification_2_les_2.ipynb\" target=\"_parent\"><img src=\"https://colab.research.google.com/assets/colab-badge.svg\" alt=\"Open In Colab\"/></a>"
      ]
    },
    {
      "cell_type": "markdown",
      "metadata": {
        "id": "-smrZewE1tU2"
      },
      "source": [
        "# Урок 6. Многоклассовая классификация.\n",
        "\n",
        "Посмотрим на примере алгоритма логистической регрессии и метода опорных векторов, как работать с различными методами многоклассовой классификации."
      ]
    },
    {
      "cell_type": "markdown",
      "metadata": {
        "id": "S5kQdZzo1tU3"
      },
      "source": [
        "### 1.\n",
        "Вспомните датасет Wine. Загрузите его, разделите на тренировочную и тестовую выборки (random_state=17), используя только [9, 11, 12] признаки."
      ]
    },
    {
      "cell_type": "code",
      "metadata": {
        "id": "paB2E5141tU4"
      },
      "source": [
        "from sklearn.datasets import load_wine\n",
        "import pandas as pd\n",
        "import numpy as np\n",
        "from sklearn.model_selection import train_test_split"
      ],
      "execution_count": 16,
      "outputs": []
    },
    {
      "cell_type": "code",
      "metadata": {
        "colab": {
          "base_uri": "https://localhost:8080/"
        },
        "id": "JNUHPKSJVvAr",
        "outputId": "fc8d2be4-4f45-4110-aab3-57bef2c4a086"
      },
      "source": [
        "wine_df = load_wine()\n",
        "wine_df.data.shape"
      ],
      "execution_count": 17,
      "outputs": [
        {
          "output_type": "execute_result",
          "data": {
            "text/plain": [
              "(178, 13)"
            ]
          },
          "metadata": {
            "tags": []
          },
          "execution_count": 17
        }
      ]
    },
    {
      "cell_type": "code",
      "metadata": {
        "colab": {
          "base_uri": "https://localhost:8080/"
        },
        "id": "_Q4_k3_7USys",
        "outputId": "33810843-9627-454b-ceb6-b11fc9d15590"
      },
      "source": [
        "# тримим фичи, оставляем только 9, 11, 12 фичи  \n",
        "\n",
        "wine_dataset_1 = np.delete(wine_df.data, \\\n",
        "                           [0, 1, 2, 3, 4, 5, 6, 7, 9, 10, ], 1)\n",
        "wine_dataset_1.shape"
      ],
      "execution_count": 18,
      "outputs": [
        {
          "output_type": "execute_result",
          "data": {
            "text/plain": [
              "(178, 3)"
            ]
          },
          "metadata": {
            "tags": []
          },
          "execution_count": 18
        }
      ]
    },
    {
      "cell_type": "code",
      "metadata": {
        "colab": {
          "base_uri": "https://localhost:8080/"
        },
        "id": "7PwT3qnbZBtF",
        "outputId": "e5313225-7aa8-44e4-c4f2-020472c24e70"
      },
      "source": [
        "wine_df['target'].shape"
      ],
      "execution_count": 19,
      "outputs": [
        {
          "output_type": "execute_result",
          "data": {
            "text/plain": [
              "(178,)"
            ]
          },
          "metadata": {
            "tags": []
          },
          "execution_count": 19
        }
      ]
    },
    {
      "cell_type": "code",
      "metadata": {
        "id": "LdwwBPqq1tU7"
      },
      "source": [
        "### YOUR CODE HERE ###\n",
        "# делим дату\n",
        "x_train, x_test, y_train, y_test = train_test_split(wine_dataset_1, \n",
        "                                                    wine_df['target'],\n",
        "                                                    random_state=17)"
      ],
      "execution_count": 20,
      "outputs": []
    },
    {
      "cell_type": "markdown",
      "metadata": {
        "id": "HMLiMOUr1tU9"
      },
      "source": [
        "**Задайте тип кросс-валидации с помощью StratifiedKFold: 5-кратная, random_state=17.**"
      ]
    },
    {
      "cell_type": "code",
      "metadata": {
        "id": "OTY-C4me1tU-"
      },
      "source": [
        "from sklearn.model_selection import StratifiedKFold, cross_val_score"
      ],
      "execution_count": 21,
      "outputs": []
    },
    {
      "cell_type": "code",
      "metadata": {
        "id": "LOVHhQ921tVA",
        "colab": {
          "base_uri": "https://localhost:8080/"
        },
        "outputId": "2a4e8c6b-47df-48e7-e0d5-0ebba4b9af85"
      },
      "source": [
        "# включаем шафл, чтобы работал рандом стэйт, \n",
        "skf = StratifiedKFold(n_splits=5, shuffle=True, random_state=17)\n",
        "skf.get_n_splits(x_train, y_train)\n",
        "skf"
      ],
      "execution_count": 22,
      "outputs": [
        {
          "output_type": "execute_result",
          "data": {
            "text/plain": [
              "StratifiedKFold(n_splits=5, random_state=17, shuffle=True)"
            ]
          },
          "metadata": {
            "tags": []
          },
          "execution_count": 22
        }
      ]
    },
    {
      "cell_type": "markdown",
      "metadata": {
        "id": "-2ClbxRe1tVC"
      },
      "source": [
        "### 2.\n",
        "Обучите логистическую регрессию (LogisticRegression) с параметром C по умолчанию и random_state=17. Укажите гиперпараметр multi_class='ovr' - по умолчанию многие классификаторы используют именно его. С помощью cross_val_score сделайте кросс-валидацию (используйте объект skf) и выведите среднюю долю правильных ответов на ней (используйте функцию mean). Отдельно выведите долю правильных ответов на тестовой выборке."
      ]
    },
    {
      "cell_type": "code",
      "metadata": {
        "id": "oKxIIFGU1tVE"
      },
      "source": [
        "from sklearn.linear_model import LogisticRegression\n",
        "from sklearn.metrics import accuracy_score"
      ],
      "execution_count": 23,
      "outputs": []
    },
    {
      "cell_type": "code",
      "metadata": {
        "id": "CJhpcgqc1tVJ"
      },
      "source": [
        "### YOUR CODE HERE ###\n",
        "lr = LogisticRegression(C=1.0, multi_class='ovr', random_state=17,)"
      ],
      "execution_count": 24,
      "outputs": []
    },
    {
      "cell_type": "code",
      "metadata": {
        "colab": {
          "base_uri": "https://localhost:8080/"
        },
        "id": "lCAr7IdMfbjX",
        "outputId": "2a01955a-8c6f-4199-c7f8-457ad9b68292"
      },
      "source": [
        "# Средняя доля правильных ответов на трэйне \n",
        "\n",
        "scores = cross_val_score(estimator=lr, X=x_train, y=y_train, \n",
        "                         cv=skf, scoring=None, n_jobs=-1).mean()\n",
        "\n",
        "scores"
      ],
      "execution_count": 25,
      "outputs": [
        {
          "output_type": "execute_result",
          "data": {
            "text/plain": [
              "0.8803418803418804"
            ]
          },
          "metadata": {
            "tags": []
          },
          "execution_count": 25
        }
      ]
    },
    {
      "cell_type": "code",
      "metadata": {
        "colab": {
          "base_uri": "https://localhost:8080/"
        },
        "id": "RSYp8fYzhgJf",
        "outputId": "ae3eceee-232b-4c49-889a-f2b5776ffb6e"
      },
      "source": [
        "# Доля правильных ответов на тесте\n",
        "lr_model = lr.fit(x_train, y_train)\n",
        "lr_prediction = lr_model.predict(x_test)\n",
        "accuracy_score(y_test, lr_prediction)"
      ],
      "execution_count": 26,
      "outputs": [
        {
          "output_type": "execute_result",
          "data": {
            "text/plain": [
              "0.9777777777777777"
            ]
          },
          "metadata": {
            "tags": []
          },
          "execution_count": 26
        }
      ]
    },
    {
      "cell_type": "markdown",
      "metadata": {
        "id": "k2JoC3fB1tVM"
      },
      "source": [
        "### 3.\n",
        "Обучите метод опорных векторов (SVC) с random_state=17 и остальными параметрами по умолчанию. Этот метод при мультиклассовой классификации также использует метод \"ovr\". Сделайте кросс-валидацию (используйте skf) и, как и в предыдущем пункте, выведите среднюю долю правильных ответов на ней. Отдельно выведите долю правильных ответов на тестовой выборке."
      ]
    },
    {
      "cell_type": "code",
      "metadata": {
        "id": "50kaD7MQ1tVN"
      },
      "source": [
        "from sklearn.svm import SVC"
      ],
      "execution_count": null,
      "outputs": []
    },
    {
      "cell_type": "code",
      "metadata": {
        "id": "SSuVYT43IAnL"
      },
      "source": [
        "svc_mod = SVC(decision_function_shape='ovr', random_state=17)"
      ],
      "execution_count": 28,
      "outputs": []
    },
    {
      "cell_type": "code",
      "metadata": {
        "id": "3DCvlNRd1tVR",
        "colab": {
          "base_uri": "https://localhost:8080/"
        },
        "outputId": "aa2c3cef-16f2-459a-9f85-75f1a3601129"
      },
      "source": [
        "# Доля правильных ответов на трэйне при использовании SVC\n",
        "scores_svc = cross_val_score(estimator=svc_mod, X=x_train, y=y_train, \n",
        "                         cv=skf, scoring=None, n_jobs=-1).mean()\n",
        "\n",
        "scores_svc"
      ],
      "execution_count": 30,
      "outputs": [
        {
          "output_type": "execute_result",
          "data": {
            "text/plain": [
              "0.6923076923076923"
            ]
          },
          "metadata": {
            "tags": []
          },
          "execution_count": 30
        }
      ]
    },
    {
      "cell_type": "code",
      "metadata": {
        "colab": {
          "base_uri": "https://localhost:8080/"
        },
        "id": "NMVUx4jNjOHA",
        "outputId": "71421b4a-6223-4ce3-b0ea-5635eee720ec"
      },
      "source": [
        "# Доля правильных ответов на тесте при использовании SVC\n",
        "svc_model = svc_mod.fit(x_train, y_train)\n",
        "svc_prediction = svc_model.predict(x_test)\n",
        "accuracy_score(y_test, svc_prediction)"
      ],
      "execution_count": 38,
      "outputs": [
        {
          "output_type": "execute_result",
          "data": {
            "text/plain": [
              "0.6222222222222222"
            ]
          },
          "metadata": {
            "tags": []
          },
          "execution_count": 38
        }
      ]
    },
    {
      "cell_type": "markdown",
      "metadata": {
        "id": "xMvjv6pR1tVX"
      },
      "source": [
        "Как видно из полученной метрики, на тестовой выборке метод с гиперпараметрами по умолчанию работает явно намного хуже логистической регрессии. В целом, SVM достаточно плохо масштабируется на размер обучающего набора данных (как видно, даже с тремя признаками он работает не очень хорошо), но благодаря возможности выбора различных ядер (функций близости, которые помогают разделять данные) и другим гиперпараметрам SVM можно достаточно точно настроить под определенный вид данных. Подробнее на этом останавливаться в контексте данного урока не будем."
      ]
    },
    {
      "cell_type": "markdown",
      "metadata": {
        "id": "0LqZbdk31tVY"
      },
      "source": [
        "### 4.\n",
        "Для предсказаний обеих моделей постройте матрицу ошибок (confusion matrix) и напишите, какие классы каждая из моделей путает больше всего между собой."
      ]
    },
    {
      "cell_type": "code",
      "metadata": {
        "id": "5dRSK--u1tVY"
      },
      "source": [
        "from sklearn.metrics import classification_report, confusion_matrix"
      ],
      "execution_count": 33,
      "outputs": []
    },
    {
      "cell_type": "code",
      "metadata": {
        "id": "VkXUKkhp1tVb",
        "colab": {
          "base_uri": "https://localhost:8080/"
        },
        "outputId": "d9934d8f-3570-4da5-ab29-2a56a9de7d67"
      },
      "source": [
        "### YOUR CODE HERE ###\n",
        "\n",
        "# строим confusion matrix для модели логистической регрессии.\n",
        "print('---МАТРИЦА ОШИБОК---')\n",
        "print(confusion_matrix(y_test, lr_prediction))"
      ],
      "execution_count": 35,
      "outputs": [
        {
          "output_type": "stream",
          "text": [
            "---МАТРИЦА ОШИБОК---\n",
            "[[ 9  0  0]\n",
            " [ 0 19  0]\n",
            " [ 0  1 16]]\n"
          ],
          "name": "stdout"
        }
      ]
    },
    {
      "cell_type": "markdown",
      "metadata": {
        "id": "iLtJifnbmF-w"
      },
      "source": [
        "модель путает третий класс один случай записала во второй."
      ]
    },
    {
      "cell_type": "code",
      "metadata": {
        "colab": {
          "base_uri": "https://localhost:8080/"
        },
        "id": "jEWRbPHhkuzg",
        "outputId": "bbc3a0a0-4b12-4e92-cc2b-769ecd509a4c"
      },
      "source": [
        "# строим confusion matrix для метода опорных векторов\n",
        "print('---МАТРИЦА ОШИБОК---')\n",
        "print(confusion_matrix(y_test, svc_prediction))"
      ],
      "execution_count": 36,
      "outputs": [
        {
          "output_type": "stream",
          "text": [
            "---МАТРИЦА ОШИБОК---\n",
            "[[ 9  0  0]\n",
            " [ 0 19  0]\n",
            " [ 2 15  0]]\n"
          ],
          "name": "stdout"
        }
      ]
    },
    {
      "cell_type": "markdown",
      "metadata": {
        "id": "YZ5R3pPTsUi5"
      },
      "source": [
        "модель путает также тертий класс и ниразу не классифицировала его правильно"
      ]
    },
    {
      "cell_type": "markdown",
      "metadata": {
        "id": "mqW8if321tVd"
      },
      "source": [
        "### 5.\n",
        "Для каждой модели выведите classification report."
      ]
    },
    {
      "cell_type": "code",
      "metadata": {
        "id": "iuu7neuS1tVe",
        "colab": {
          "base_uri": "https://localhost:8080/"
        },
        "outputId": "daad055d-19ee-47ce-ec96-e519030aa390"
      },
      "source": [
        "### YOUR CODE HERE ###\n",
        "# Добавляем zero_division=0 чтобы отключить предупреждение\n",
        "target_names = ['class 0', 'class 1', 'class 2']\n",
        "print('Logistic Regression')\n",
        "print(classification_report(y_test, lr_prediction,\\\n",
        "                            zero_division=0, target_names=target_names,))\n",
        "print('-'*60)\n",
        "print('SVM')\n",
        "print(classification_report(y_test, svc_prediction, \\\n",
        "                            zero_division=0, target_names=target_names,))"
      ],
      "execution_count": 37,
      "outputs": [
        {
          "output_type": "stream",
          "text": [
            "Logistic Regression\n",
            "              precision    recall  f1-score   support\n",
            "\n",
            "     class 0       1.00      1.00      1.00         9\n",
            "     class 1       0.95      1.00      0.97        19\n",
            "     class 2       1.00      0.94      0.97        17\n",
            "\n",
            "    accuracy                           0.98        45\n",
            "   macro avg       0.98      0.98      0.98        45\n",
            "weighted avg       0.98      0.98      0.98        45\n",
            "\n",
            "------------------------------------------------------------\n",
            "SVM\n",
            "              precision    recall  f1-score   support\n",
            "\n",
            "     class 0       0.82      1.00      0.90         9\n",
            "     class 1       0.56      1.00      0.72        19\n",
            "     class 2       0.00      0.00      0.00        17\n",
            "\n",
            "    accuracy                           0.62        45\n",
            "   macro avg       0.46      0.67      0.54        45\n",
            "weighted avg       0.40      0.62      0.48        45\n",
            "\n"
          ],
          "name": "stdout"
        }
      ]
    },
    {
      "cell_type": "code",
      "metadata": {
        "id": "UKVLyIRGtMyq"
      },
      "source": [
        ""
      ],
      "execution_count": null,
      "outputs": []
    }
  ]
}