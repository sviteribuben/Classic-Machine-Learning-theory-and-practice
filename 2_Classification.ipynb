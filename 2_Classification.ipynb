{
  "nbformat": 4,
  "nbformat_minor": 0,
  "metadata": {
    "kernelspec": {
      "display_name": "Python 3",
      "language": "python",
      "name": "python3"
    },
    "language_info": {
      "codemirror_mode": {
        "name": "ipython",
        "version": 3
      },
      "file_extension": ".py",
      "mimetype": "text/x-python",
      "name": "python",
      "nbconvert_exporter": "python",
      "pygments_lexer": "ipython3",
      "version": "3.6.3"
    },
    "colab": {
      "name": "2_Classification.ipynb",
      "provenance": [],
      "include_colab_link": true
    }
  },
  "cells": [
    {
      "cell_type": "markdown",
      "metadata": {
        "id": "view-in-github",
        "colab_type": "text"
      },
      "source": [
        "<a href=\"https://colab.research.google.com/github/sviteribuben/ML_01/blob/main/2_Classification.ipynb\" target=\"_parent\"><img src=\"https://colab.research.google.com/assets/colab-badge.svg\" alt=\"Open In Colab\"/></a>"
      ]
    },
    {
      "cell_type": "code",
      "metadata": {
        "id": "LyWl6MGTi0f7"
      },
      "source": [
        "import numpy as np\n",
        "import pandas as pd\n",
        "# импортируем модуль, отвечающий за деревья решений\n",
        "from sklearn.tree import DecisionTreeClassifier\n",
        "from sklearn.tree import export_text"
      ],
      "execution_count": null,
      "outputs": []
    },
    {
      "cell_type": "code",
      "metadata": {
        "colab": {
          "base_uri": "https://localhost:8080/"
        },
        "id": "70hiPGLAGBPr",
        "outputId": "ed09047e-c246-4bf4-f62b-3752eb77e89f"
      },
      "source": [
        "from google.colab import drive\r\n",
        "drive.mount('/content/drive')"
      ],
      "execution_count": null,
      "outputs": [
        {
          "output_type": "stream",
          "text": [
            "Mounted at /content/drive\n"
          ],
          "name": "stdout"
        }
      ]
    },
    {
      "cell_type": "code",
      "metadata": {
        "id": "LS71t19Mi0f-"
      },
      "source": [
        "# загружаем данные\n",
        "houses = pd.read_csv(\"/content/drive/MyDrive/Colab Notebooks/ML_01/houses.csv\")"
      ],
      "execution_count": null,
      "outputs": []
    },
    {
      "cell_type": "code",
      "metadata": {
        "id": "G6pjMZgni0gB",
        "colab": {
          "base_uri": "https://localhost:8080/",
          "height": 266
        },
        "outputId": "5e3aba9b-81bb-482e-8fbf-cab18a4d1823"
      },
      "source": [
        "houses.head(7)"
      ],
      "execution_count": null,
      "outputs": [
        {
          "output_type": "execute_result",
          "data": {
            "text/html": [
              "<div>\n",
              "<style scoped>\n",
              "    .dataframe tbody tr th:only-of-type {\n",
              "        vertical-align: middle;\n",
              "    }\n",
              "\n",
              "    .dataframe tbody tr th {\n",
              "        vertical-align: top;\n",
              "    }\n",
              "\n",
              "    .dataframe thead th {\n",
              "        text-align: right;\n",
              "    }\n",
              "</style>\n",
              "<table border=\"1\" class=\"dataframe\">\n",
              "  <thead>\n",
              "    <tr style=\"text-align: right;\">\n",
              "      <th></th>\n",
              "      <th>dim_1</th>\n",
              "      <th>dim_2</th>\n",
              "      <th>level</th>\n",
              "      <th>price</th>\n",
              "    </tr>\n",
              "  </thead>\n",
              "  <tbody>\n",
              "    <tr>\n",
              "      <th>0</th>\n",
              "      <td>29</td>\n",
              "      <td>28</td>\n",
              "      <td>luxury</td>\n",
              "      <td>2212.0</td>\n",
              "    </tr>\n",
              "    <tr>\n",
              "      <th>1</th>\n",
              "      <td>28</td>\n",
              "      <td>29</td>\n",
              "      <td>luxury</td>\n",
              "      <td>2203.0</td>\n",
              "    </tr>\n",
              "    <tr>\n",
              "      <th>2</th>\n",
              "      <td>6</td>\n",
              "      <td>9</td>\n",
              "      <td>basic</td>\n",
              "      <td>254.0</td>\n",
              "    </tr>\n",
              "    <tr>\n",
              "      <th>3</th>\n",
              "      <td>5</td>\n",
              "      <td>9</td>\n",
              "      <td>basic</td>\n",
              "      <td>242.0</td>\n",
              "    </tr>\n",
              "    <tr>\n",
              "      <th>4</th>\n",
              "      <td>6</td>\n",
              "      <td>6</td>\n",
              "      <td>basic</td>\n",
              "      <td>195.0</td>\n",
              "    </tr>\n",
              "    <tr>\n",
              "      <th>5</th>\n",
              "      <td>5</td>\n",
              "      <td>8</td>\n",
              "      <td>basic</td>\n",
              "      <td>200.0</td>\n",
              "    </tr>\n",
              "    <tr>\n",
              "      <th>6</th>\n",
              "      <td>27</td>\n",
              "      <td>29</td>\n",
              "      <td>luxury</td>\n",
              "      <td>2108.0</td>\n",
              "    </tr>\n",
              "  </tbody>\n",
              "</table>\n",
              "</div>"
            ],
            "text/plain": [
              "   dim_1  dim_2   level   price\n",
              "0     29     28  luxury  2212.0\n",
              "1     28     29  luxury  2203.0\n",
              "2      6      9   basic   254.0\n",
              "3      5      9   basic   242.0\n",
              "4      6      6   basic   195.0\n",
              "5      5      8   basic   200.0\n",
              "6     27     29  luxury  2108.0"
            ]
          },
          "metadata": {
            "tags": []
          },
          "execution_count": 5
        }
      ]
    },
    {
      "cell_type": "code",
      "metadata": {
        "id": "pEzozG4Ti0gI"
      },
      "source": [
        "# выгружаем признаки и целевые значения в отдельные переменные\n",
        "X = houses[[\"dim_1\", \"dim_2\"]]\n",
        "y = houses[\"level\"]\n",
        "\n",
        "# создаем классификатор\n",
        "cl = DecisionTreeClassifier().fit(X, y)"
      ],
      "execution_count": null,
      "outputs": []
    },
    {
      "cell_type": "code",
      "metadata": {
        "id": "r2CRqOdIi0gK",
        "colab": {
          "base_uri": "https://localhost:8080/"
        },
        "outputId": "dbff43fe-b1a8-42f1-b9bd-5cb27935eaea"
      },
      "source": [
        "# выведем информацию для интерпретации построенной модели\n",
        "print(export_text(cl))"
      ],
      "execution_count": null,
      "outputs": [
        {
          "output_type": "stream",
          "text": [
            "|--- feature_0 <= 10.00\n",
            "|   |--- class: basic\n",
            "|--- feature_0 >  10.00\n",
            "|   |--- feature_1 <= 25.00\n",
            "|   |   |--- class: medium\n",
            "|   |--- feature_1 >  25.00\n",
            "|   |   |--- class: luxury\n",
            "\n"
          ],
          "name": "stdout"
        }
      ]
    },
    {
      "cell_type": "code",
      "metadata": {
        "id": "BZuXoNS-i0gN",
        "colab": {
          "base_uri": "https://localhost:8080/"
        },
        "outputId": "5ce31cd7-cf53-47c9-df53-dbd24138ce73"
      },
      "source": [
        "# проведем классификацию\n",
        "cl.predict(X[7:8])[0], y[7]"
      ],
      "execution_count": null,
      "outputs": [
        {
          "output_type": "execute_result",
          "data": {
            "text/plain": [
              "('medium', 'medium')"
            ]
          },
          "metadata": {
            "tags": []
          },
          "execution_count": 9
        }
      ]
    },
    {
      "cell_type": "code",
      "metadata": {
        "id": "ZayOdxRJi0gP"
      },
      "source": [
        ""
      ],
      "execution_count": null,
      "outputs": []
    }
  ]
}