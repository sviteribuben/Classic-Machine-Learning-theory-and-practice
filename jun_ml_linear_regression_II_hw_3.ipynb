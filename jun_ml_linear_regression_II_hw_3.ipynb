{
  "nbformat": 4,
  "nbformat_minor": 0,
  "metadata": {
    "celltoolbar": "Slideshow",
    "kernelspec": {
      "display_name": "Python 3",
      "language": "python",
      "name": "python3"
    },
    "language_info": {
      "codemirror_mode": {
        "name": "ipython",
        "version": 3
      },
      "file_extension": ".py",
      "mimetype": "text/x-python",
      "name": "python",
      "nbconvert_exporter": "python",
      "pygments_lexer": "ipython3",
      "version": "3.6.3"
    },
    "colab": {
      "name": "Copy of jun_ml_linear_regression_II_hw_3.ipynb",
      "provenance": [],
      "collapsed_sections": [],
      "toc_visible": true,
      "include_colab_link": true
    }
  },
  "cells": [
    {
      "cell_type": "markdown",
      "metadata": {
        "id": "view-in-github",
        "colab_type": "text"
      },
      "source": [
        "<a href=\"https://colab.research.google.com/github/sviteribuben/ML_01/blob/main/jun_ml_linear_regression_II_hw_3.ipynb\" target=\"_parent\"><img src=\"https://colab.research.google.com/assets/colab-badge.svg\" alt=\"Open In Colab\"/></a>"
      ]
    },
    {
      "cell_type": "markdown",
      "metadata": {
        "id": "idnfa1hXYUOh"
      },
      "source": [
        "### Урок 3. Домашняя работа\n",
        "\n",
        "**Задание простого уровня** Загрузите данные из файла `non_linear.csv` и сгенерируйте данные до степени *degree = 8* включительно. Обучите модель `sklearn.linear_model.Lasso` и модель `sklearn.linear_model.Ridge` на полученных данных, используйте коэффициент регуляризации $\\alpha=0.8$ для обеих моделей. Постройте два столбчатых графика, на которых отобразите величину коэффициентов для Ridge регрессии и Lasso регрессии в виде столбиков.\n",
        "\n",
        "Пример графиков для 3-й степени (просто для примера, у вас может по-другому выглядеть). Какой можно сделать в вывод по величине коэффициентов?:\n",
        "![coeff_example](https://pp.userapi.com/c850136/v850136613/19282c/OfwruuxOkPw.jpg)"
      ]
    },
    {
      "cell_type": "markdown",
      "metadata": {
        "id": "LMvLoBdR28ku"
      },
      "source": [
        "# Новый раздел"
      ]
    },
    {
      "cell_type": "markdown",
      "metadata": {
        "id": "emJrtls2NZSo"
      },
      "source": [
        "# Новый раздел"
      ]
    },
    {
      "cell_type": "code",
      "metadata": {
        "id": "bYGmSdz4YUOh"
      },
      "source": [
        "# -- ВАШ КОД ТУТ\n",
        "\n",
        "import numpy as np\n",
        "import pandas as pd\n",
        "from sklearn.model_selection import train_test_split\n",
        "from sklearn.linear_model import Ridge, Lasso\n",
        "from sklearn.metrics import mean_squared_error\n",
        "\n",
        "import matplotlib.pyplot as plt\n",
        "%matplotlib inline\n",
        "import seaborn as sns\n",
        "plt.style.use('seaborn-darkgrid')\n",
        "sns.set(rc={'figure.figsize':(18,8)})\n",
        "palette = plt.get_cmap('Dark2')\n",
        "\n",
        "import warnings\n",
        "warnings.filterwarnings(\"ignore\")"
      ],
      "execution_count": null,
      "outputs": []
    },
    {
      "cell_type": "code",
      "metadata": {
        "colab": {
          "base_uri": "https://localhost:8080/"
        },
        "id": "c6bkOWOCOkXC",
        "outputId": "459a5bd6-922a-423d-92ca-1f0f16fdc734"
      },
      "source": [
        "from google.colab import drive\n",
        "drive.mount('/content/drive')"
      ],
      "execution_count": null,
      "outputs": [
        {
          "output_type": "stream",
          "text": [
            "Mounted at /content/drive\n"
          ],
          "name": "stdout"
        }
      ]
    },
    {
      "cell_type": "code",
      "metadata": {
        "colab": {
          "base_uri": "https://localhost:8080/",
          "height": 204
        },
        "id": "q2sFpbcbOS1p",
        "outputId": "fb179eb2-a92d-43f0-81ed-397efc3d3820"
      },
      "source": [
        "data = pd.read_csv('/content/drive/MyDrive/Colab Notebooks/ML_01/non_linear.csv', sep=',')\n",
        "data.head()"
      ],
      "execution_count": null,
      "outputs": [
        {
          "output_type": "execute_result",
          "data": {
            "text/html": [
              "<div>\n",
              "<style scoped>\n",
              "    .dataframe tbody tr th:only-of-type {\n",
              "        vertical-align: middle;\n",
              "    }\n",
              "\n",
              "    .dataframe tbody tr th {\n",
              "        vertical-align: top;\n",
              "    }\n",
              "\n",
              "    .dataframe thead th {\n",
              "        text-align: right;\n",
              "    }\n",
              "</style>\n",
              "<table border=\"1\" class=\"dataframe\">\n",
              "  <thead>\n",
              "    <tr style=\"text-align: right;\">\n",
              "      <th></th>\n",
              "      <th>x_train</th>\n",
              "      <th>y_train</th>\n",
              "    </tr>\n",
              "  </thead>\n",
              "  <tbody>\n",
              "    <tr>\n",
              "      <th>0</th>\n",
              "      <td>0.138368</td>\n",
              "      <td>0.838812</td>\n",
              "    </tr>\n",
              "    <tr>\n",
              "      <th>1</th>\n",
              "      <td>0.157237</td>\n",
              "      <td>0.889313</td>\n",
              "    </tr>\n",
              "    <tr>\n",
              "      <th>2</th>\n",
              "      <td>0.188684</td>\n",
              "      <td>1.430040</td>\n",
              "    </tr>\n",
              "    <tr>\n",
              "      <th>3</th>\n",
              "      <td>0.685553</td>\n",
              "      <td>1.717309</td>\n",
              "    </tr>\n",
              "    <tr>\n",
              "      <th>4</th>\n",
              "      <td>0.874237</td>\n",
              "      <td>2.032588</td>\n",
              "    </tr>\n",
              "  </tbody>\n",
              "</table>\n",
              "</div>"
            ],
            "text/plain": [
              "    x_train   y_train\n",
              "0  0.138368  0.838812\n",
              "1  0.157237  0.889313\n",
              "2  0.188684  1.430040\n",
              "3  0.685553  1.717309\n",
              "4  0.874237  2.032588"
            ]
          },
          "metadata": {
            "tags": []
          },
          "execution_count": 4
        }
      ]
    },
    {
      "cell_type": "code",
      "metadata": {
        "id": "ooEb69UnOBop"
      },
      "source": [
        "def generate_degrees(source_data: list, degree: int):\n",
        "    \"\"\"Функция, которая принимает на вход одномерный массив, а возвращает n-мерный\n",
        "    Для каждой степени от 1 до  degree возводим x в эту степень\n",
        "    \"\"\"\n",
        "    return np.array([source_data**n for n in range(1, degree + 1)]).T"
      ],
      "execution_count": null,
      "outputs": []
    },
    {
      "cell_type": "code",
      "metadata": {
        "id": "0kXmNKUDrVDY",
        "colab": {
          "base_uri": "https://localhost:8080/"
        },
        "outputId": "b04a3121-4565-4bdc-dc21-7ddf5ac5657d"
      },
      "source": [
        "# coef_ на диапазоне степеней полиномо от 1 до 8]  \n",
        "for degree in range(1, 9):\n",
        "  X = generate_degrees(data['x_train'], degree)\n",
        "  y = data.y_train.values\n",
        "  model_r = Ridge(alpha=0.8).fit(X, y)\n",
        "  model_l = Lasso(alpha=0.8).fit(X, y)\n",
        "  print(degree)\n",
        "  print(f'Lasso.coef_ {model_l.coef_}')\n",
        "  print(f'Ridge.coef_{model_l.coef_}', '\\n')"
      ],
      "execution_count": null,
      "outputs": [
        {
          "output_type": "stream",
          "text": [
            "1\n",
            "Lasso.coef_ [-0.06401598]\n",
            "Ridge.coef_[-0.06401598] \n",
            "\n",
            "2\n",
            "Lasso.coef_ [-0.         -0.04176295]\n",
            "Ridge.coef_[-0.         -0.04176295] \n",
            "\n",
            "3\n",
            "Lasso.coef_ [-0.         -0.04176295 -0.        ]\n",
            "Ridge.coef_[-0.         -0.04176295 -0.        ] \n",
            "\n",
            "4\n",
            "Lasso.coef_ [-0.         -0.         -0.05814716  0.00894078]\n",
            "Ridge.coef_[-0.         -0.         -0.05814716  0.00894078] \n",
            "\n",
            "5\n",
            "Lasso.coef_ [-0.         -0.         -0.01945922 -0.00777652  0.00175685]\n",
            "Ridge.coef_[-0.         -0.         -0.01945922 -0.00777652  0.00175685] \n",
            "\n",
            "6\n",
            "Lasso.coef_ [-0.         -0.         -0.00524475 -0.00962282  0.00085428  0.0001397 ]\n",
            "Ridge.coef_[-0.         -0.         -0.00524475 -0.00962282  0.00085428  0.0001397 ] \n",
            "\n",
            "7\n",
            "Lasso.coef_ [-0.00000000e+00 -0.00000000e+00 -9.00147959e-03 -8.66603460e-03\n",
            "  8.60647487e-04  1.42063679e-04 -2.26525059e-06]\n",
            "Ridge.coef_[-0.00000000e+00 -0.00000000e+00 -9.00147959e-03 -8.66603460e-03\n",
            "  8.60647487e-04  1.42063679e-04 -2.26525059e-06] \n",
            "\n",
            "8\n",
            "Lasso.coef_ [-0.00000000e+00 -0.00000000e+00 -1.23662052e-02 -8.77130342e-03\n",
            "  9.34034433e-04  1.71519415e-04  3.88621101e-06 -1.73045762e-06]\n",
            "Ridge.coef_[-0.00000000e+00 -0.00000000e+00 -1.23662052e-02 -8.77130342e-03\n",
            "  9.34034433e-04  1.71519415e-04  3.88621101e-06 -1.73045762e-06] \n",
            "\n"
          ],
          "name": "stdout"
        }
      ]
    },
    {
      "cell_type": "code",
      "metadata": {
        "colab": {
          "base_uri": "https://localhost:8080/",
          "height": 495
        },
        "id": "4ERVkSYMSPVx",
        "outputId": "907eec5a-0366-4443-bb3e-4a3a9562c133"
      },
      "source": [
        "degree = 8\n",
        "X = generate_degrees(data.x_train, degree)\n",
        "y = data.y_train.values\n",
        "model_lasso = Lasso(alpha=0.8).fit(X, y)\n",
        "model_ridge = Ridge(alpha=0.8).fit(X, y)\n",
        "fig, subplot = plt.subplots()\n",
        "subplot.bar(np.linspace(1, degree, degree), model_lasso.coef_, color='g', alpha = 0.7)\n",
        "subplot.bar(np.linspace(1, degree, degree), model_ridge.coef_, color='y', alpha = 0.5)\n",
        "subplot.set_title('coef_ линейной регерессии' , fontsize=22)\n",
        "subplot.set_xlabel('номер' , fontsize=22)\n",
        "subplot.set_ylabel('степень', fontsize=22)\n",
        "subplot.legend(['Lasso', 'Ridge'], fontsize=22)\n",
        "plt.show(); "
      ],
      "execution_count": null,
      "outputs": [
        {
          "output_type": "display_data",
          "data": {
            "image/png": "[encoded data removed]",
            "text/plain": [
              "<Figure size 1296x576 with 1 Axes>"
            ]
          },
          "metadata": {
            "tags": []
          }
        }
      ]
    },
    {
      "cell_type": "markdown",
      "metadata": {
        "id": "Lc7JFH96ucnw"
      },
      "source": [
        "Коэффициенты model_lasso.coef_ сильно меньше чем **model_ridge.coef_** при увеличении степени ridge стремиться к нулю. "
      ]
    },
    {
      "cell_type": "markdown",
      "metadata": {
        "id": "dGA2X5S5YUOl"
      },
      "source": [
        "Пока что мы пользуемся моделями с регуляризацией как \"черным ящиком\" - знаем, как применять и это работает! Для успешного решения задач этого достаточно. Если вам, как и мне, интересно *почему* это работает - добро пожаловать во второй урок, где Вас ждёт больше кода и формул!"
      ]
    }
  ]
}