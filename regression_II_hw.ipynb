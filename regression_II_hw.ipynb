{
  "nbformat": 4,
  "nbformat_minor": 0,
  "metadata": {
    "celltoolbar": "Slideshow",
    "kernelspec": {
      "display_name": "Python 3",
      "language": "python",
      "name": "python3"
    },
    "language_info": {
      "codemirror_mode": {
        "name": "ipython",
        "version": 3
      },
      "file_extension": ".py",
      "mimetype": "text/x-python",
      "name": "python",
      "nbconvert_exporter": "python",
      "pygments_lexer": "ipython3",
      "version": "3.6.3"
    },
    "colab": {
      "name": "regression_II_hw.ipynb",
      "provenance": [],
      "collapsed_sections": [],
      "include_colab_link": true
    }
  },
  "cells": [
    {
      "cell_type": "markdown",
      "metadata": {
        "id": "view-in-github",
        "colab_type": "text"
      },
      "source": [
        "<a href=\"https://colab.research.google.com/github/sviteribuben/ML_01/blob/main/regression_II_hw.ipynb\" target=\"_parent\"><img src=\"https://colab.research.google.com/assets/colab-badge.svg\" alt=\"Open In Colab\"/></a>"
      ]
    },
    {
      "cell_type": "markdown",
      "metadata": {
        "id": "dpnRYhULbUo0"
      },
      "source": [
        "Тренироваться будем на полиномиальной регрессии, потому что она сильно склонна к переобучению и мы уже знакомы с этой моделью. Сгенерируем полиномиальные признаки так же, как вы уже делали в модуле \"Линейная регрессия. Часть I\"."
      ]
    },
    {
      "cell_type": "code",
      "metadata": {
        "colab": {
          "base_uri": "https://localhost:8080/"
        },
        "id": "5KZgT0pYDc79",
        "outputId": "b2441491-857d-4290-b736-2fdd267955e3"
      },
      "source": [
        "from google.colab import drive\n",
        "drive.mount('/content/drive')"
      ],
      "execution_count": 1,
      "outputs": [
        {
          "output_type": "stream",
          "text": [
            "Mounted at /content/drive\n"
          ],
          "name": "stdout"
        }
      ]
    },
    {
      "cell_type": "code",
      "metadata": {
        "id": "HmR4-VXdbUon",
        "colab": {
          "base_uri": "https://localhost:8080/",
          "height": 204
        },
        "outputId": "e45c50a2-eda2-4de0-e60c-5d395733fc73"
      },
      "source": [
        "import numpy as np\n",
        "import pandas as pd\n",
        "\n",
        "from sklearn.model_selection import train_test_split\n",
        "from sklearn.linear_model import Ridge, Lasso\n",
        "from sklearn.metrics import mean_squared_error\n",
        "from sklearn.metrics import r2_score\n",
        "from sklearn.datasets import load_boston\n",
        "from sklearn.linear_model import SGDRegressor\n",
        "from scipy.spatial import distance\n",
        "\n",
        "import matplotlib.pyplot as plt\n",
        "%matplotlib inline\n",
        "import seaborn as sns\n",
        "plt.style.use('seaborn-darkgrid')\n",
        "sns.set(rc={'figure.figsize':(18,8)})\n",
        "palette = plt.get_cmap('Dark2')\n",
        "\n",
        "import warnings\n",
        "warnings.filterwarnings(\"ignore\")\n",
        "\n",
        "boston_dataset = load_boston()\n",
        "\n",
        "data = pd.read_csv(\n",
        "    '/content/drive/MyDrive/Colab Notebooks/ML_01/3.10_non_linear.csv',\n",
        "    sep=',')\n",
        "data.head()"
      ],
      "execution_count": 2,
      "outputs": [
        {
          "output_type": "execute_result",
          "data": {
            "text/html": [
              "<div>\n",
              "<style scoped>\n",
              "    .dataframe tbody tr th:only-of-type {\n",
              "        vertical-align: middle;\n",
              "    }\n",
              "\n",
              "    .dataframe tbody tr th {\n",
              "        vertical-align: top;\n",
              "    }\n",
              "\n",
              "    .dataframe thead th {\n",
              "        text-align: right;\n",
              "    }\n",
              "</style>\n",
              "<table border=\"1\" class=\"dataframe\">\n",
              "  <thead>\n",
              "    <tr style=\"text-align: right;\">\n",
              "      <th></th>\n",
              "      <th>x_train</th>\n",
              "      <th>y_train</th>\n",
              "    </tr>\n",
              "  </thead>\n",
              "  <tbody>\n",
              "    <tr>\n",
              "      <th>0</th>\n",
              "      <td>0.138368</td>\n",
              "      <td>0.838812</td>\n",
              "    </tr>\n",
              "    <tr>\n",
              "      <th>1</th>\n",
              "      <td>0.157237</td>\n",
              "      <td>0.889313</td>\n",
              "    </tr>\n",
              "    <tr>\n",
              "      <th>2</th>\n",
              "      <td>0.188684</td>\n",
              "      <td>1.430040</td>\n",
              "    </tr>\n",
              "    <tr>\n",
              "      <th>3</th>\n",
              "      <td>0.685553</td>\n",
              "      <td>1.717309</td>\n",
              "    </tr>\n",
              "    <tr>\n",
              "      <th>4</th>\n",
              "      <td>0.874237</td>\n",
              "      <td>2.032588</td>\n",
              "    </tr>\n",
              "  </tbody>\n",
              "</table>\n",
              "</div>"
            ],
            "text/plain": [
              "    x_train   y_train\n",
              "0  0.138368  0.838812\n",
              "1  0.157237  0.889313\n",
              "2  0.188684  1.430040\n",
              "3  0.685553  1.717309\n",
              "4  0.874237  2.032588"
            ]
          },
          "metadata": {
            "tags": []
          },
          "execution_count": 2
        }
      ]
    },
    {
      "cell_type": "code",
      "metadata": {
        "id": "6kgr-BdKbUo1"
      },
      "source": [
        "def generate_degrees(source_data: list, degree: int):\n",
        "    \"\"\"Функция, которая принимает на вход одномерный массив, а возвращает n-мерный\n",
        "    Для каждой степени от 1 до  degree возводим x в эту степень\n",
        "    \"\"\"\n",
        "    return np.array([\n",
        "          source_data**n for n in range(1, degree + 1)  \n",
        "    ]).T"
      ],
      "execution_count": null,
      "outputs": []
    },
    {
      "cell_type": "markdown",
      "metadata": {
        "id": "MHkNCITTbUo9"
      },
      "source": [
        "Обучаем модель на валидации, проверяем на контроле для степени полинома *degree=8*. Для разбиения мы воспользуемся функцией train_test_split (ссылка на доку: https://scikit-learn.org/stable/modules/generated/sklearn.model_selection.train_test_split.html). Функция принимает следующие аргументы:\n",
        "\n",
        "* $X$ и $y$ - массивы, которые хотим расщепить на валидацию и контроль\n",
        "* *test_size* принимает значения от нуля до единицы и означает долю объектов, которые нужно отложить на валидацию (обычно выбирают значения между $0.15$ и $0.35$)\n",
        "* *random_state* - любое целое число. Функция разбивает выборку случайным образом, но если вы задали параметр random_state, то разбиение не будет меняться в разных запусках программы. Это нужно для воспроизводимости исследований и является признаком хорошего тона в программировании."
      ]
    },
    {
      "cell_type": "code",
      "metadata": {
        "id": "yZb-WArNbUo_",
        "colab": {
          "base_uri": "https://localhost:8080/"
        },
        "outputId": "94b93643-4294-4d3a-ce64-e996a12d9ca7"
      },
      "source": [
        "degree = 8\n",
        "X = generate_degrees(data['x_train'], degree)\n",
        "y = data.y_train.values\n",
        "X_train, X_valid, y_train, y_valid = train_test_split(X, y, test_size=0.2, random_state=10)\n",
        "model = Ridge(alpha=0).fit(X_train, y_train)\n",
        "y_pred = model.predict(X_valid)\n",
        "y_pred_train = model.predict(X_train)\n",
        "print(f\"Качество на валидации: {mean_squared_error(y_valid, y_pred).round(3)}\")\n",
        "print(f\"Качество на обучении: {mean_squared_error(y_train, y_pred_train).round(3)}\")"
      ],
      "execution_count": null,
      "outputs": [
        {
          "output_type": "stream",
          "text": [
            "Качество на валидации: 0.119\n",
            "Качество на обучении: 0.052\n"
          ],
          "name": "stdout"
        }
      ]
    },
    {
      "cell_type": "markdown",
      "metadata": {
        "id": "9jhYpis6bUpG"
      },
      "source": [
        "Теперь обучим полиномиальную регрессию для степени *degree = 12* c параметром регуляризации *alpha=0*"
      ]
    },
    {
      "cell_type": "code",
      "metadata": {
        "id": "WYzdr4rIbUpH",
        "colab": {
          "base_uri": "https://localhost:8080/"
        },
        "outputId": "f513077b-8e4e-44eb-9155-45e2dbe3ea73"
      },
      "source": [
        "degree = 12\n",
        "X = generate_degrees(data['x_train'], degree)\n",
        "y = data.y_train.values\n",
        "X_train, X_valid, y_train, y_valid = train_test_split(X, y, test_size=0.2, random_state=10)\n",
        "model = Ridge(alpha=0).fit(X_train, y_train)\n",
        "y_pred = model.predict(X_valid)\n",
        "y_pred_train = model.predict(X_train)\n",
        "print(f\"Качество на валидации: {mean_squared_error(y_valid, y_pred).round(3)}\")\n",
        "print(f\"Качество на обучении: {mean_squared_error(y_train, y_pred_train).round(3)}\")"
      ],
      "execution_count": null,
      "outputs": [
        {
          "output_type": "stream",
          "text": [
            "Качество на валидации: 0.125\n",
            "Качество на обучении: 0.051\n"
          ],
          "name": "stdout"
        }
      ]
    },
    {
      "cell_type": "markdown",
      "metadata": {
        "id": "NnCmofQwbUpQ"
      },
      "source": [
        "Как изменилась ошибка на обучении? Было $0.052$, стало $0.051$, т.е. *ошибка на обучении падает*.\n",
        "\n",
        "Как изменилась ошибка на валидации? Было $0.119$, стало $0.125$, т.е. *ошибка на валидации растёт*.\n",
        "\n",
        "Это же верный **признак переобучения**! Ошибка на валидации растёт, а на обучении падает. Степень полинома $n=12$ хуже, чем степень полинома $n=8$, модель переобучилась. Это печально, как же нам победить переобучение?\n",
        "\n",
        "**Практическое задание**: предлагаю вам победить переобучение самостоятельно! Обучите *Ridge* регрессию с параметром регуляризации $\\alpha=0.01$. \n",
        "\n",
        "Как изменилась ошибка на обучении? Как изменилась ошибка на валидации? Удалось ли победить переобучение?"
      ]
    },
    {
      "cell_type": "code",
      "metadata": {
        "id": "pXnFc3vubUpR",
        "colab": {
          "base_uri": "https://localhost:8080/"
        },
        "outputId": "2af04a93-5440-4fd5-caea-d388a0d8a446"
      },
      "source": [
        "# -- ВАШ КОД ТУТ --\n",
        "degree = 8\n",
        "X = generate_degrees(data['x_train'], degree)\n",
        "y = data.y_train.values\n",
        "X_train, X_valid, y_train, y_valid = train_test_split(X, y, test_size=0.2, random_state=42)\n",
        "model = Ridge(alpha=0.01, normalize=True).fit(X_train, y_train)\n",
        "y_pred = model.predict(X_valid)\n",
        "y_pred_train = model.predict(X_train)\n",
        "print(f\"Качество на валидации: {mean_squared_error(y_valid, y_pred).round(4)}\")\n",
        "print(f\"Качество на обучении: {mean_squared_error(y_train, y_pred_train).round(4)}\")"
      ],
      "execution_count": null,
      "outputs": [
        {
          "output_type": "stream",
          "text": [
            "Качество на валидации: 0.0885\n",
            "Качество на обучении: 0.1527\n"
          ],
          "name": "stdout"
        }
      ]
    },
    {
      "cell_type": "code",
      "metadata": {
        "colab": {
          "base_uri": "https://localhost:8080/"
        },
        "id": "q3krnaGwF6cr",
        "outputId": "ad044bf9-b1be-457c-cd2e-c4a0b6af9256"
      },
      "source": [
        "degree = 12\n",
        "X = generate_degrees(data['x_train'], degree)\n",
        "X_train, X_valid, y_train, y_valid = train_test_split(X, y, test_size=0.2, random_state=42)\n",
        "model = Ridge(alpha=0.01, normalize=True).fit(X_train, y_train)\n",
        "y_pred = model.predict(X_valid)\n",
        "y_pred_train = model.predict(X_train)\n",
        "print(f\"Качество на валидации: {mean_squared_error(y_valid, y_pred).round(4)}\")\n",
        "print(f\"Качество на обучении: {mean_squared_error(y_train, y_pred_train).round(4)}\")"
      ],
      "execution_count": null,
      "outputs": [
        {
          "output_type": "stream",
          "text": [
            "Качество на валидации: 0.0866\n",
            "Качество на обучении: 0.147\n"
          ],
          "name": "stdout"
        }
      ]
    },
    {
      "cell_type": "markdown",
      "metadata": {
        "id": "2aLceU3IJBoi"
      },
      "source": [
        "если использовать нормализацию то все отрабатывает как надо! Как изменилась ошибка на обучении? Было  0.1513, стало  0.1456, т.е. ошибка на обучении падает.\n",
        "Как изменилась ошибка на валидации? Было  0.0867, стало  0.0847, т.е. ошибка на валидации также снижается!\n",
        "Переобучение **нивилировано** с изменением параметра $\\alpha=0.01$ и \"включением\" нормализации! Ошибка на валидации падает, а на обучении падает алсо! \n",
        "Степень полинома  n=12  хуже, чем степень полинома  n=8 , модель годная! Пулим в прод))."
      ]
    },
    {
      "cell_type": "markdown",
      "metadata": {
        "id": "idnfa1hXYUOh"
      },
      "source": [
        "### Урок 3. Домашняя работа\n",
        "\n",
        "**Задание простого уровня** Загрузите данные из файла `non_linear.csv` и сгенерируйте данные до степени *degree = 8* включительно. Обучите модель `sklearn.linear_model.Lasso` и модель `sklearn.linear_model.Ridge` на полученных данных, используйте коэффициент регуляризации $\\alpha=0.8$ для обеих моделей. Постройте два столбчатых графика, на которых отобразите величину коэффициентов для Ridge регрессии и Lasso регрессии в виде столбиков.\n",
        "\n",
        "Пример графиков для 3-й степени (просто для примера, у вас может по-другому выглядеть). Какой можно сделать в вывод по величине коэффициентов?:\n",
        "![coeff_example](https://pp.userapi.com/c850136/v850136613/19282c/OfwruuxOkPw.jpg)"
      ]
    },
    {
      "cell_type": "code",
      "metadata": {
        "id": "ooEb69UnOBop"
      },
      "source": [
        "def generate_degrees(source_data: list, degree: int):\n",
        "    \"\"\"Функция, которая принимает на вход одномерный массив, а возвращает n-мерный\n",
        "    Для каждой степени от 1 до  degree возводим x в эту степень\n",
        "    \"\"\"\n",
        "    return np.array([source_data**n for n in range(1, degree + 1)]).T"
      ],
      "execution_count": null,
      "outputs": []
    },
    {
      "cell_type": "code",
      "metadata": {
        "id": "0kXmNKUDrVDY",
        "colab": {
          "base_uri": "https://localhost:8080/"
        },
        "outputId": "2dacfd2b-74ff-4752-e832-d71e111a25c8"
      },
      "source": [
        "# coef_ на диапазоне степеней полиномо от 1 до 8]  \n",
        "for degree in range(1, 9):\n",
        "  X = generate_degrees(data['x_train'], degree)\n",
        "  y = data.y_train.values\n",
        "  model_r = Ridge(alpha=0.8).fit(X, y)\n",
        "  model_l = Lasso(alpha=0.8).fit(X, y)\n",
        "  print(degree)\n",
        "  print(f'Lasso.coef_ {model_l.coef_}')\n",
        "  print(f'Ridge.coef_{model_l.coef_}')\n",
        "  train_X, test_X, train_y, test_y = train_test_split(X, y, test_size=0.2, random_state=42)\n",
        "  print(f'RIDGE_SCORE: {model_r.score(test_X, test_y)}')\n",
        "  print(f'LASSO_SCORE: {model_l.score(test_X, test_y)}', '\\n')"
      ],
      "execution_count": null,
      "outputs": [
        {
          "output_type": "stream",
          "text": [
            "1\n",
            "Lasso.coef_ [-0.06401598]\n",
            "Ridge.coef_[-0.06401598]\n",
            "RIDGE_SCORE: 0.19414800991882664\n",
            "LASSO_SCORE: 0.026743244097827357 \n",
            "\n",
            "2\n",
            "Lasso.coef_ [-0.         -0.04176295]\n",
            "Ridge.coef_[-0.         -0.04176295]\n",
            "RIDGE_SCORE: 0.326850639869368\n",
            "LASSO_SCORE: -0.0018338848638614902 \n",
            "\n",
            "3\n",
            "Lasso.coef_ [-0.         -0.04176295 -0.        ]\n",
            "Ridge.coef_[-0.         -0.04176295 -0.        ]\n",
            "RIDGE_SCORE: 0.8770140930007068\n",
            "LASSO_SCORE: -0.0018338848638614902 \n",
            "\n",
            "4\n",
            "Lasso.coef_ [-0.         -0.         -0.05814716  0.00894078]\n",
            "Ridge.coef_[-0.         -0.         -0.05814716  0.00894078]\n",
            "RIDGE_SCORE: 0.8772363771865311\n",
            "LASSO_SCORE: 0.7674952540678287 \n",
            "\n",
            "5\n",
            "Lasso.coef_ [-0.         -0.         -0.01945922 -0.00777652  0.00175685]\n",
            "Ridge.coef_[-0.         -0.         -0.01945922 -0.00777652  0.00175685]\n",
            "RIDGE_SCORE: 0.8836863274947241\n",
            "LASSO_SCORE: 0.8126517571186842 \n",
            "\n",
            "6\n",
            "Lasso.coef_ [-0.         -0.         -0.00524475 -0.00962282  0.00085428  0.0001397 ]\n",
            "Ridge.coef_[-0.         -0.         -0.00524475 -0.00962282  0.00085428  0.0001397 ]\n",
            "RIDGE_SCORE: 0.8821224651502593\n",
            "LASSO_SCORE: 0.7805365172509594 \n",
            "\n",
            "7\n",
            "Lasso.coef_ [-0.00000000e+00 -0.00000000e+00 -9.00147959e-03 -8.66603460e-03\n",
            "  8.60647487e-04  1.42063679e-04 -2.26525059e-06]\n",
            "Ridge.coef_[-0.00000000e+00 -0.00000000e+00 -9.00147959e-03 -8.66603460e-03\n",
            "  8.60647487e-04  1.42063679e-04 -2.26525059e-06]\n",
            "RIDGE_SCORE: 0.9358982141563555\n",
            "LASSO_SCORE: 0.7885188158692142 \n",
            "\n",
            "8\n",
            "Lasso.coef_ [-0.00000000e+00 -0.00000000e+00 -1.23662052e-02 -8.77130342e-03\n",
            "  9.34034433e-04  1.71519415e-04  3.88621101e-06 -1.73045762e-06]\n",
            "Ridge.coef_[-0.00000000e+00 -0.00000000e+00 -1.23662052e-02 -8.77130342e-03\n",
            "  9.34034433e-04  1.71519415e-04  3.88621101e-06 -1.73045762e-06]\n",
            "RIDGE_SCORE: 0.9362958673876721\n",
            "LASSO_SCORE: 0.8099505106490549 \n",
            "\n"
          ],
          "name": "stdout"
        }
      ]
    },
    {
      "cell_type": "code",
      "metadata": {
        "colab": {
          "base_uri": "https://localhost:8080/",
          "height": 532
        },
        "id": "4ERVkSYMSPVx",
        "outputId": "2319269b-541e-47b3-ab93-77b509039b81"
      },
      "source": [
        "degree = 8\n",
        "X = generate_degrees(data.x_train, degree)\n",
        "y = data.y_train.values\n",
        "model_lasso = Lasso(alpha=0.8).fit(X, y)\n",
        "model_ridge = Ridge(alpha=0.8).fit(X, y)\n",
        "fig, subplot = plt.subplots()\n",
        "subplot.bar(np.linspace(1, degree, degree), model_lasso.coef_, color='g', alpha = 0.7)\n",
        "subplot.bar(np.linspace(1, degree, degree), model_ridge.coef_, color='y', alpha = 0.5)\n",
        "subplot.set_title('coef_ линейной регерессии' , fontsize=22)\n",
        "subplot.set_xlabel('номер' , fontsize=22)\n",
        "subplot.set_ylabel('степень', fontsize=22)\n",
        "subplot.legend(['Lasso', 'Ridge'], fontsize=22)\n",
        "plt.show();"
      ],
      "execution_count": null,
      "outputs": [
        {
          "output_type": "display_data",
          "data": {
            "image/png": "[encoded data removed]",
            "text/plain": [
              "<Figure size 1296x576 with 1 Axes>"
            ]
          },
          "metadata": {
            "tags": []
          }
        }
      ]
    },
    {
      "cell_type": "markdown",
      "metadata": {
        "id": "Lc7JFH96ucnw"
      },
      "source": [
        "Коэффициенты model_lasso.coef_ сильно меньше чем **model_ridge.coef_** при увеличении степени ridge стремиться к нулю. "
      ]
    },
    {
      "cell_type": "markdown",
      "metadata": {
        "id": "dGA2X5S5YUOl"
      },
      "source": [
        "Пока что мы пользуемся моделями с регуляризацией как \"черным ящиком\" - знаем, как применять и это работает! Для успешного решения задач этого достаточно. Если вам, как и мне, интересно *почему* это работает - добро пожаловать во второй урок, где Вас ждёт больше кода и формул!"
      ]
    },
    {
      "cell_type": "markdown",
      "metadata": {
        "id": "90H1_YdZMMbo"
      },
      "source": [
        "### Урок 8. Домашняя работа\n",
        "\n",
        "**Задание среднего уровня** Примените градиентный спуск к задаче прогнозирования цен на недвижимость в Бостоне. Какого качества на валидации удалось достичь по r2-score? Сколько итераций  понадобилось?"
      ]
    },
    {
      "cell_type": "code",
      "metadata": {
        "id": "0q8EbVXRMMbp"
      },
      "source": [
        "X = boston_dataset.data\n",
        "y = boston_dataset.target\n",
        "X_train, X_test, y_train, y_test = train_test_split(\n",
        "    X, y, test_size=0.2, random_state=10)"
      ],
      "execution_count": null,
      "outputs": []
    },
    {
      "cell_type": "code",
      "metadata": {
        "colab": {
          "base_uri": "https://localhost:8080/",
          "height": 575
        },
        "id": "e7WNVB2wWJWr",
        "outputId": "a013f845-e618-48e0-a066-31d9a502bc84"
      },
      "source": [
        "# тестим затраченное время\n",
        "%%time\n",
        "\n",
        "sgd_regressor = SGDRegressor(\n",
        "    learning_rate='constant',\\\n",
        "    eta0=0.00000001,\\\n",
        "    fit_intercept=True,\\\n",
        "    random_state=42)\n",
        "w_current, epsilon = np.random.random(13), 0.0001 \n",
        "# тоесть по 13 фичам. можно выбрать более коррелируемые фичи, нормализовать и искать R2 по ним. \n",
        "weight_evolution, r2 = [], []\n",
        "\n",
        "for step in list(range(8000)):\n",
        "    sgd_regressor = sgd_regressor.partial_fit(X_train, y_train)\n",
        "    weight_evolution.append(distance.euclidean(w_current, sgd_regressor.coef_))\n",
        "    if weight_evolution[-1] < epsilon:\n",
        "      print(f\"Итарации остановлены на шаге {step}\")\n",
        "      print(f\"r2 {r2[-1]}\"); break\n",
        "    r2.append(sgd_regressor.score(X_test, y_test))\n",
        "    w_current = sgd_regressor.coef_.copy()\n",
        "plt.title('R2_score' , fontsize=22)\n",
        "plt.plot(range(step), r2);"
      ],
      "execution_count": null,
      "outputs": [
        {
          "output_type": "stream",
          "text": [
            "Итарации остановлены на шаге 1133\n",
            "r2 0.01577924438658096\n",
            "CPU times: user 1.29 s, sys: 7.79 ms, total: 1.3 s\n",
            "Wall time: 1.3 s\n"
          ],
          "name": "stdout"
        },
        {
          "output_type": "display_data",
          "data": {
            "image/png": "[encoded data removed]",
            "text/plain": [
              "<Figure size 1296x576 with 1 Axes>"
            ]
          },
          "metadata": {
            "tags": []
          }
        }
      ]
    },
    {
      "cell_type": "markdown",
      "metadata": {
        "id": "ZadrTkGLMMbs"
      },
      "source": [
        "Вы можете начать использовать градиентный спуск уже сейчас! Если вы хотите глубже понять механизмы, которые использует этот приём - добро пожаловать в урок 5, где мы поговорим о математике, которая стоит за градиентным спуском и даже реализуем градиентный спуск на языке Python."
      ]
    },
    {
      "cell_type": "markdown",
      "metadata": {
        "id": "NTvgYjVhnE6h"
      },
      "source": [
        "### Урок 12. Домашняя работа\n",
        "\n",
        "**Задача высокого уровня** В реализацию функции `gradient` добавьте параметр $\\lambda$, чтобы получить регуляризованный градиентный спуск\n",
        "\n",
        "Формула поменяется следующим образом:\n",
        "$$\n",
        "\\left\\{\n",
        "\\begin{array}{cc}\n",
        "\\frac{\\partial L}{\\partial w_0} = \\frac{2}{n}\\cdot(-1)\\cdot \\sum_{i=1}^{n} (1\\cdot \\left(y_i - \\sum_{j=1}^{m}w_jx_j^i\\right) + \\lambda\\cdot 2\\cdot w_0)&\\\\\n",
        "\\frac{\\partial L}{\\partial w_k} = \\frac{2}{n}\\cdot(-1)\\cdot \\sum_{i=1}^{n} (x_k^i \\cdot\\left(y_i - \\sum_{j=1}^{m}w_jx_j^i\\right) + \\lambda\\cdot 2\\cdot w_k)& k\\neq 0 \\\\\n",
        "\\end{array}\n",
        "\\right.\n",
        "$$"
      ]
    },
    {
      "cell_type": "code",
      "metadata": {
        "id": "zxpLYBR9PuBe"
      },
      "source": [
        "# восстановим реализацию функции из лекции\n",
        "# добавляем параметр лямбда, и так как это задекларированное имя в Python \n",
        "# ставим постфикс согласно PEP8\n",
        "\n",
        "def gradient(X, y, w, lambda_) -> np.array:\n",
        "    # количество обучающих примеров в выборке\n",
        "    n = X.shape[0]\n",
        "    # считаем прогноз\n",
        "    y_hat = X.dot(w.T)\n",
        "    # вычисляем ошибку прогноза\n",
        "    error = y - y_hat\n",
        "    # дальше pointwise перемножение - умножаем каждую из координат на ошибку\n",
        "    grad = np.multiply(X, error).sum(axis=0)*(-1.0)*2.0 / n + lambda_*2.0*w\n",
        "    return grad, error\n",
        "\n",
        "def eval_w_next(X, y, eta, w_current, lambda_=0.0):\n",
        "    # вычисляем градиент\n",
        "    grad, error = gradient(X, y, w_current, lambda_)\n",
        "    # делаем шаг градиентного спуска\n",
        "    w_next = w_current - eta*grad\n",
        "    # проверяем условие сходимости\n",
        "    weight_evolution = distance.euclidean(w_current, w_next)\n",
        "    return (w_next, weight_evolution, grad)\n",
        "\n",
        "def gradient_descent(X: np.array, y: np.array, eta=0.01, epsilon=0.001, lambda_=0.0) -> np.array:\n",
        "    m = X.shape[1] # количество фичей\n",
        "    # инициализируем рандомом веса\n",
        "    w = np.random.random(m).reshape(1, -1)\n",
        "    w_next, weight_evolution, grad = eval_w_next(X, y, eta, w, lambda_)\n",
        "    step = 0\n",
        "    # повторяем до сходимости вектора весов\n",
        "    while weight_evolution > epsilon:\n",
        "        w = w_next\n",
        "        w_next, weight_evolution, grad = eval_w_next(X, y, eta, w)\n",
        "        step += 1\n",
        "        if step % 100 ==0:\n",
        "            print(\"step %s |w-w_next|=%.5f, grad=%s\" % (step, weight_evolution, grad))\n",
        "    return w"
      ],
      "execution_count": null,
      "outputs": []
    },
    {
      "cell_type": "markdown",
      "metadata": {
        "id": "i-50DjD6c51t"
      },
      "source": [
        "ОБУЧЕНИЕ"
      ]
    },
    {
      "cell_type": "code",
      "metadata": {
        "colab": {
          "base_uri": "https://localhost:8080/"
        },
        "id": "Xax_Lvqhc5BA",
        "outputId": "2e3e809d-db7f-4afb-9af1-fee62ee4284a"
      },
      "source": [
        "# трансформируем плоский массив X в вектор-столбец\n",
        "X = data['x_train'].values.reshape(-1, 1)\n",
        "n = X.shape[0]\n",
        "# добавляем тривиальный признак w_0, столбец из единиц.\n",
        "X = np.hstack([\n",
        "    np.ones(n).reshape(-1,1),\n",
        "    X\n",
        "])\n",
        "w = gradient_descent(X, data['y_train'].values.reshape(-1, 1), eta=0.008, lambda_=0.01)"
      ],
      "execution_count": 4,
      "outputs": [
        {
          "output_type": "stream",
          "text": [
            "step 100 |w-w_next|=0.00502, grad=[-0.60295244  0.17418097]\n",
            "step 200 |w-w_next|=0.00427, grad=[-0.51234917  0.14800748]\n",
            "step 300 |w-w_next|=0.00363, grad=[-0.4353605   0.12576699]\n",
            "step 400 |w-w_next|=0.00308, grad=[-0.36994061  0.10686848]\n",
            "step 500 |w-w_next|=0.00262, grad=[-0.3143511   0.09080978]\n",
            "step 600 |w-w_next|=0.00222, grad=[-0.26711481  0.07716416]\n",
            "step 700 |w-w_next|=0.00189, grad=[-0.22697653  0.06556901]\n",
            "step 800 |w-w_next|=0.00161, grad=[-0.19286967  0.05571621]\n",
            "step 900 |w-w_next|=0.00136, grad=[-0.16388791  0.04734396]\n",
            "step 1000 |w-w_next|=0.00116, grad=[-0.13926113  0.04022977]\n"
          ],
          "name": "stdout"
        }
      ]
    },
    {
      "cell_type": "code",
      "metadata": {
        "colab": {
          "base_uri": "https://localhost:8080/",
          "height": 507
        },
        "id": "QvvtRqAvf3jj",
        "outputId": "ddf6ceca-712e-4f27-a549-95ed65289967"
      },
      "source": [
        "support = np.linspace(X.min(), X.max(), num=100)\n",
        "# делаем предикт - считаем предсказания модели в каждой точке обучающей выборке в виде y=X*w\n",
        "y_hat = np.hstack([\n",
        "    np.ones(support.size).reshape(-1, 1),\n",
        "    support.reshape(-1, 1)\n",
        "]).dot(w.T)\n",
        "# строим график\n",
        "plt.plot(support, y_hat, 'b--', alpha=0.5, label='manifold')\n",
        "plt.scatter(\n",
        "    data['x_train'], data['y_train'], 40, 'g', 'x', alpha=0.8, label='data')\n",
        "plt.title('PREDICTION' , fontsize=22)\n",
        "plt.show()"
      ],
      "execution_count": 5,
      "outputs": [
        {
          "output_type": "display_data",
          "data": {
            "image/png": "[encoded data removed]",
            "text/plain": [
              "<Figure size 1296x576 with 1 Axes>"
            ]
          },
          "metadata": {
            "tags": []
          }
        }
      ]
    },
    {
      "cell_type": "markdown",
      "metadata": {
        "id": "dQ7gRtDmnE6p"
      },
      "source": [
        "В этом модуле мы узнали, как  обучать линейную регрессию, не \"упираясь\" в аппаратные ресурсы: использовать градиентный спуск.\n",
        "Мы узнали, как детектировать переобучение модели и закрепили свои знания на примере полиномиальной регрессии и выяснили, как увеличить качество решения с помощью механизма регуляризации. Познакомились с двумя видами регуляризации -  Ridge и Lasso."
      ]
    }
  ]
}