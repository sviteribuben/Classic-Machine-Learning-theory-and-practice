{
  "nbformat": 4,
  "nbformat_minor": 0,
  "metadata": {
    "colab": {
      "name": "jun_ml_7_hw_1.ipynb",
      "provenance": [],
      "collapsed_sections": [],
      "include_colab_link": true
    },
    "kernelspec": {
      "display_name": "Python 3",
      "language": "python",
      "name": "python3"
    },
    "language_info": {
      "codemirror_mode": {
        "name": "ipython",
        "version": 3
      },
      "file_extension": ".py",
      "mimetype": "text/x-python",
      "name": "python",
      "nbconvert_exporter": "python",
      "pygments_lexer": "ipython3",
      "version": "3.6.3"
    }
  },
  "cells": [
    {
      "cell_type": "markdown",
      "metadata": {
        "id": "view-in-github",
        "colab_type": "text"
      },
      "source": [
        "<a href=\"https://colab.research.google.com/github/sviteribuben/ML_01/blob/main/jun_ml_7_hw_1.ipynb\" target=\"_parent\"><img src=\"https://colab.research.google.com/assets/colab-badge.svg\" alt=\"Open In Colab\"/></a>"
      ]
    },
    {
      "cell_type": "markdown",
      "metadata": {
        "id": "d5lYtakjONu8"
      },
      "source": [
        "## Урок 2. Домашнее задание \n",
        "\n",
        "### 2.1 Домашнее задание начального уровня\n",
        "\n",
        "Вычислите евклидово расстояние между кластером *c1* и кластером *c3*. Это расстояние получилось меньше, или больше чем расстояние между кластером *c1* и кластером *c2*?\n",
        "\n",
        "Координаты центра для трёх кластеров:\n",
        "\n",
        "* \"красный\" кластер $c_1 = [1.0, 1.5]$\n",
        "* \"оранжевый\" кластер $c_2 = [-1.0, -0.5]$\n",
        "* \"зеленый\" кластер $c_3 = [1.0, -0.5]$\n",
        "\n",
        "![clustering_example](https://248006.selcdn.ru/public/DS.%20Block%202.%20M7/clustering_example.png)"
      ]
    },
    {
      "cell_type": "code",
      "metadata": {
        "id": "_BUBuVtnONu_",
        "colab": {
          "base_uri": "https://localhost:8080/",
          "height": 35
        },
        "outputId": "92f2f29c-4abe-4cc6-8ccc-07e8eb11bfa1"
      },
      "source": [
        "# -- ВАШ КОД ТУТ --\n",
        "from scipy.spatial.distance import euclidean\n",
        "\n",
        "c1 = [1.0, 1.5]\n",
        "c2 = [-1.0, -0.5]\n",
        "c3 = [1.0, -0.5]\n",
        "dist_1_2 = euclidean(c1, c2)\n",
        "dist_1_3 = euclidean(c1, c3)\n",
        "f\"Расстояние между кластерами c1 и c3 ({dist_1_3}) меньше чем расстояние между \\\n",
        "с1 и с2 ({round(dist_1_2, 2)}) {dist_1_3 < dist_1_2}\"\n",
        "\n"
      ],
      "execution_count": 77,
      "outputs": [
        {
          "output_type": "execute_result",
          "data": {
            "application/vnd.google.colaboratory.intrinsic+json": {
              "type": "string"
            },
            "text/plain": [
              "'Расстояние между кластерами c1 и c3 (2.0) меньше чем расстояние между с1 и с2 (2.83) True'"
            ]
          },
          "metadata": {
            "tags": []
          },
          "execution_count": 77
        }
      ]
    },
    {
      "cell_type": "markdown",
      "metadata": {
        "id": "erGAkM0UONvJ"
      },
      "source": [
        "В этом уроке мы познакомились с постановкой задачи кластеризации. Мы узнали, с помощью какой функции можно вычислить расстояние между двумя точками. В следующем уроке мы рассмотрим один из самых простых алгоритмов кластеризации, который назовём алгоритмом $k-$средних."
      ]
    },
    {
      "cell_type": "markdown",
      "metadata": {
        "id": "ToOBomb3PAB4"
      },
      "source": [
        "## Урок 4. Домашнее задание \n",
        "\n",
        "### 4.1 Домашнее задание начального уровня\n",
        "\n",
        "Потренируйтесь в программировании на python. Надо будет найти расстояние от каждой точки из массива $X$ до центра кластера, а потом просуммировать эти расстояния. Это будет реализацией библиотечной функции `sklearn.metrics.pairwise.euclidean_distances` из первого урока.  В итоге у Вас должно получиться число чуть более $16$ - это и будет расстояние.\n",
        "$$\n",
        "\\sum_{i=1}^{k} \\mid x_i - c \\mid\n",
        "$$\n",
        "\n",
        "где для одного обучающего примера x, состоящего из двух координат:\n",
        "$$\n",
        "\\mid x - c \\mid = (x_1-c_1)^2 + (x_2-c_2)^2\n",
        "$$\n",
        "\n",
        "**Примечание** Как вы уже знаете из урока про линейную регрессию, в этой формуле должен быть квадратный корень, но для скорости работы мы опускаем его.\n",
        "\n",
        "**Подсказка** Средствами библиотеки numpy реализуйте формулу нахождения суммы внутрикластерных расстояний"
      ]
    },
    {
      "cell_type": "code",
      "metadata": {
        "id": "nY5dFMW8PACP",
        "colab": {
          "base_uri": "https://localhost:8080/",
          "height": 35
        },
        "outputId": "7cc21be4-1f64-4cf1-d3b6-8ef0e77d47cb"
      },
      "source": [
        "import numpy as np\n",
        "\n",
        "clust = np.array([\n",
        " [-0.5972191612445694, -0.5919098916910581],\n",
        " [-1.5838020751869848, 0.4743393635868491],\n",
        " [-1.892642118066139, -1.2770390481464395],\n",
        " [-1.021761443519372, -0.38446059106320013],\n",
        " [-0.628271339507516, -2.308149346281125],\n",
        " [-0.7180915776856387, 1.1805550909358404],\n",
        " [-1.543143767548152, -1.4163791359687334],\n",
        " [0.022103701018375554, -1.1279478858865397],\n",
        " [-0.7776518874305778, -0.4157532453316538],\n",
        " [-1.2073577296008344, -1.1308523658604184]\n",
        "])\n",
        "\n",
        "centroid = np.array([-0.9774245525274352, -0.032635425821084516])\n",
        "\n",
        "# -- ВАШ КОД ТУТ --\n",
        "manual_euclidean_distance = 0 \n",
        "for i in range(clust.shape[0]):\n",
        "  manual_euclidean_distance += \\\n",
        "  (centroid[0] - clust[i-1][0]) ** 2 + (centroid[1] - clust[i-1][1]) ** 2\n",
        "\n",
        "f'расстояние от каждой точки из массива X до центра кластера:\\\n",
        " {round(manual_euclidean_distance, 3)}'\n"
      ],
      "execution_count": 78,
      "outputs": [
        {
          "output_type": "execute_result",
          "data": {
            "application/vnd.google.colaboratory.intrinsic+json": {
              "type": "string"
            },
            "text/plain": [
              "'расстояние от каждой точки из массива X до центра кластера: 16.312'"
            ]
          },
          "metadata": {
            "tags": []
          },
          "execution_count": 78
        }
      ]
    },
    {
      "cell_type": "markdown",
      "metadata": {
        "id": "O2lFNZ_EPACV"
      },
      "source": [
        "### 4.2 Домашнее задание начального уровня  \n",
        "\n",
        "Обучите алгоритм k-средних для количества кластеров $n=3$ на том же датасете, который содержится в файле `data/clustering.pkl`. Визуализируйте результат:"
      ]
    },
    {
      "cell_type": "code",
      "metadata": {
        "colab": {
          "base_uri": "https://localhost:8080/"
        },
        "id": "UcsfwUgWC_yk",
        "outputId": "8355d987-6f42-499f-aa32-560d6935e554"
      },
      "source": [
        "from google.colab import drive\n",
        "drive.mount('/content/drive')"
      ],
      "execution_count": 4,
      "outputs": [
        {
          "output_type": "stream",
          "text": [
            "Mounted at /content/drive\n"
          ],
          "name": "stdout"
        }
      ]
    },
    {
      "cell_type": "code",
      "metadata": {
        "id": "GkTkaXo1PACW",
        "colab": {
          "base_uri": "https://localhost:8080/",
          "height": 265
        },
        "outputId": "099def30-3018-48e5-c587-544edb03a20f"
      },
      "source": [
        "# -- ВАШ КОД ТУТ --\n",
        "import pickle\n",
        "import numpy as np\n",
        "from sklearn.cluster import KMeans\n",
        "import matplotlib.pyplot as plt\n",
        "%matplotlib inline\n",
        "\n",
        "with open('/content/drive/MyDrive/Colab Notebooks/ML_01/CLUSTERIZATION/clustering.pkl', 'rb') as f:\n",
        "    data_clustering = pickle.load(f)\n",
        "\n",
        "X = np.array(data_clustering['X'])\n",
        "y = np.array(data_clustering['Y'])\n",
        "\n",
        "# обучаем. количествo кластеров n=3\n",
        "kmeans_model = KMeans(n_clusters=3, random_state=42)\n",
        "kmeans_model.fit(X)\n",
        "# визуализируем.\n",
        "plt.scatter(X[:, 0], X[:, 1], s=40, c=kmeans_model.labels_, marker='o', alpha=0.8, label='data')\n",
        "plt.show();"
      ],
      "execution_count": 79,
      "outputs": [
        {
          "output_type": "display_data",
          "data": {
            "image/png": "[encoded data removed]",
            "text/plain": [
              "<Figure size 432x288 with 1 Axes>"
            ]
          },
          "metadata": {
            "tags": [],
            "needs_background": "light"
          }
        }
      ]
    },
    {
      "cell_type": "markdown",
      "metadata": {
        "id": "kxSaSMsuPACd"
      },
      "source": [
        "### 4.3 Домашнее задание высокого уровня\n",
        "\n",
        "Мы узнали про эвристику, улучшающую алгоритм: запустить несколько раз алгоритм, запомнить, куда попали центроиды при каждом запуске, а потом усреднить координаты за все несколько запуска.\n",
        "\n",
        "Попробуйте применить эту эвристику на практике: \n",
        "\n",
        "* используйте 10 запусков алгоритма $k$-средних для $k=2$ с параметрами\n",
        "<pre>\n",
        "kmeans_model = KMeans(n_clusters=2, n_init=1, random_state=None, algorithm='full', max_iter=2)\n",
        "</pre>\n",
        "* в каждом запуске сохраняйте координаты центроидов общий массив $c$. См. `cluster_centers_ : array, [n_clusters, n_features]`\n",
        "* визуализируйте координаты точек из $c$ на фоне исходного множества точек\n",
        "\n",
        "Результат будет примерно такой:\n",
        "![several_init_knn](https://248006.selcdn.ru/public/DS.%20Block%202.%20M7/several_init_knn.png)"
      ]
    },
    {
      "cell_type": "code",
      "metadata": {
        "id": "JDHAMAveJ57x"
      },
      "source": [
        "from sklearn.metrics.pairwise import euclidean_distances"
      ],
      "execution_count": 10,
      "outputs": []
    },
    {
      "cell_type": "code",
      "metadata": {
        "id": "Y7TYD_kRPACg"
      },
      "source": [
        "# -- ВАШ КОД ТУТ --\n",
        "\n",
        "c = []\n",
        "for i in range(10):\n",
        "  kmeans_model = KMeans(n_clusters=2, n_init=1, random_state=None, \\\n",
        "                        algorithm='full', max_iter=2, n_jobs=-1).fit(X)\n",
        "  c.append(kmeans_model.cluster_centers_)\n",
        "\n",
        "c = np.array(c)"
      ],
      "execution_count": 80,
      "outputs": []
    },
    {
      "cell_type": "markdown",
      "metadata": {
        "id": "rldfAxyWPACk"
      },
      "source": [
        "Мы выяснили, что один из недостатков алгоритма k-средних состоит в том, что количество кластеров надо задать до тренировки модели, но как же определить, сколько будет кластеров в данных? Для этой задачи существует эффективный алгоритм, о котором мы поговорим в следующем уроке."
      ]
    },
    {
      "cell_type": "code",
      "metadata": {
        "colab": {
          "base_uri": "https://localhost:8080/",
          "height": 265
        },
        "id": "xhIi2N-xPQQj",
        "outputId": "2da3b7c1-3368-4f1f-e41a-b7384e11fdda"
      },
      "source": [
        "plt.scatter(X[:, 0], X[:, 1], s=40, marker='o', alpha=0.8, label='data')\n",
        "for i in range(10):\n",
        "  plt.scatter(c[i][0], c[i][1], s=100, c='red', marker='x', alpha=0.8, label='data', )\n",
        "\n",
        "plt.show();"
      ],
      "execution_count": 81,
      "outputs": [
        {
          "output_type": "display_data",
          "data": {
            "image/png": "[encoded data removed]",
            "text/plain": [
              "<Figure size 432x288 with 1 Axes>"
            ]
          },
          "metadata": {
            "tags": [],
            "needs_background": "light"
          }
        }
      ]
    },
    {
      "cell_type": "code",
      "metadata": {
        "id": "qKSQBl-cP6Ej"
      },
      "source": [
        ""
      ],
      "execution_count": null,
      "outputs": []
    },
    {
      "cell_type": "markdown",
      "metadata": {
        "id": "oNXBetI-PL1C"
      },
      "source": [
        "## Урок 8. Домашнее задание начального уровня\n",
        "\n",
        "\n",
        "Обучите модель DBSCAN с параметром *min_samples=8*. Визуализируйте результат."
      ]
    },
    {
      "cell_type": "code",
      "metadata": {
        "id": "E19oxgsOTZFj"
      },
      "source": [
        "from sklearn.cluster import DBSCAN"
      ],
      "execution_count": 1,
      "outputs": []
    },
    {
      "cell_type": "code",
      "metadata": {
        "id": "le8z-ilDPL1F",
        "colab": {
          "base_uri": "https://localhost:8080/",
          "height": 52
        },
        "outputId": "e667b420-f011-4f3e-9c07-c3742e81a874"
      },
      "source": [
        "# -- ВАШ КОД ТУТ --\n",
        "\n",
        "db = DBSCAN(eps=0.6, min_samples=8, n_jobs=-1).fit(X)\n",
        "core_samples_mask = np.zeros_like(db.labels_, dtype=bool)\n",
        "core_samples_mask[db.core_sample_indices_] = True\n",
        "f'{db}'"
      ],
      "execution_count": 82,
      "outputs": [
        {
          "output_type": "execute_result",
          "data": {
            "application/vnd.google.colaboratory.intrinsic+json": {
              "type": "string"
            },
            "text/plain": [
              "\"DBSCAN(algorithm='auto', eps=0.6, leaf_size=30, metric='euclidean',\\n       metric_params=None, min_samples=8, n_jobs=-1, p=None)\""
            ]
          },
          "metadata": {
            "tags": []
          },
          "execution_count": 82
        }
      ]
    },
    {
      "cell_type": "markdown",
      "metadata": {
        "id": "QhcrhBvMPL1K"
      },
      "source": [
        "-------------------------------------------------------------------------------------------------"
      ]
    },
    {
      "cell_type": "code",
      "metadata": {
        "colab": {
          "base_uri": "https://localhost:8080/",
          "height": 265
        },
        "id": "2r1OEFXrUiCD",
        "outputId": "828d9021-4360-40cf-8b73-b2946b22cd0e"
      },
      "source": [
        "# labels = db.labels_\n",
        "# labels\n",
        "plt.scatter(X[:, 0], X[:, 1], s=40, c=db.labels_, marker='o', alpha=0.8, label='data')\n",
        "plt.show();"
      ],
      "execution_count": 83,
      "outputs": [
        {
          "output_type": "display_data",
          "data": {
            "image/png": "[encoded data removed]",
            "text/plain": [
              "<Figure size 432x288 with 1 Axes>"
            ]
          },
          "metadata": {
            "tags": [],
            "needs_background": "light"
          }
        }
      ]
    },
    {
      "cell_type": "markdown",
      "metadata": {
        "id": "SdPgW6UDPL2M"
      },
      "source": [
        "Мы теперь мы знаем уже два алгоритма кластеризации -  *k-means* и *DBSCAN*. Как же выяснить, какой алгоритм построил лучшую модель? Для этого надо бы придумать какие-то метрики для кластеризации. О том, как померять качество кластеризации, мы узнаем в следующем уроке"
      ]
    },
    {
      "cell_type": "code",
      "metadata": {
        "id": "2dH5yrXXafi6"
      },
      "source": [
        ""
      ],
      "execution_count": null,
      "outputs": []
    },
    {
      "cell_type": "markdown",
      "metadata": {
        "id": "B3KaF1cvPTEr"
      },
      "source": [
        "## Урок 10. Домашнее задание \n",
        "\n",
        "### 10.1 Домашнее задание начального уровня\n",
        "\n",
        "Обучите *k-means* для количества кластеров $k=4$ на датасете `data/clustering.pkl`. Как изменилась метрика силуэтта? Стало лучше или хуже? Какое количество кластеров лучше, два или четыре?"
      ]
    },
    {
      "cell_type": "code",
      "metadata": {
        "id": "4EerOYSgPTEu",
        "colab": {
          "base_uri": "https://localhost:8080/",
          "height": 35
        },
        "outputId": "a2fb427f-25ec-482b-e06b-a5da1da09e85"
      },
      "source": [
        "# -- ВАШ КОД ТУТ --\n",
        "# Качество кластеризации по метрике силуэтта 0.447 при К=2\n",
        "from sklearn.metrics import silhouette_score\n",
        "\n",
        "kmeans_model_S = KMeans(n_clusters=4, random_state=42).fit(X)\n",
        "score = silhouette_score(X, kmeans_model_S.labels_)\n",
        "f'Качество кластеризации по метрике Cилуэтта при k=4 {round(score, 4)}'"
      ],
      "execution_count": 84,
      "outputs": [
        {
          "output_type": "execute_result",
          "data": {
            "application/vnd.google.colaboratory.intrinsic+json": {
              "type": "string"
            },
            "text/plain": [
              "'Качество кластеризации по метрике Cилуэтта при k=4 0.4418'"
            ]
          },
          "metadata": {
            "tags": []
          },
          "execution_count": 84
        }
      ]
    },
    {
      "cell_type": "markdown",
      "metadata": {
        "id": "Fu2LaaPvb9ZK"
      },
      "source": [
        "***метрика падает, количество кластеров 4 хуже***"
      ]
    },
    {
      "cell_type": "markdown",
      "metadata": {
        "id": "iUCVoJeaPTEz"
      },
      "source": [
        "\n",
        "### 10.2 Домашнее задание начального уровня\n",
        "\n",
        "Обучите *k-means* для количества кластеров $k=4$ на датасете `data/clustering.pkl`. Как изменилась метрика *AMI*? Стало лучше или хуже? Какое количество кластеров лучше по метрике AMI?"
      ]
    },
    {
      "cell_type": "code",
      "metadata": {
        "id": "Q6sYr2h3PTE1",
        "colab": {
          "base_uri": "https://localhost:8080/",
          "height": 35
        },
        "outputId": "aaa568aa-36e4-47a5-d251-f133fe7442a1"
      },
      "source": [
        "# -- ВАШ КОД ТУТ --\n",
        "# Качество кластеризации по метрике AMI 0.614 при k=2\n",
        "from sklearn.metrics.cluster import adjusted_mutual_info_score\n",
        "\n",
        "kmeans_model_AMI = KMeans(n_clusters=4, random_state=42).fit(X)\n",
        "score = adjusted_mutual_info_score(y, kmeans_model_AMI.labels_,\\\n",
        "                                   average_method='arithmetic')\n",
        "\n",
        "f'Качество кластеризации по метрике AMI при k=4 {round(score, 4)}'"
      ],
      "execution_count": 85,
      "outputs": [
        {
          "output_type": "execute_result",
          "data": {
            "application/vnd.google.colaboratory.intrinsic+json": {
              "type": "string"
            },
            "text/plain": [
              "'Качество кластеризации по метрике AMI при k=4 0.5828'"
            ]
          },
          "metadata": {
            "tags": []
          },
          "execution_count": 85
        }
      ]
    },
    {
      "cell_type": "markdown",
      "metadata": {
        "id": "nfQ-yoLRcwm7"
      },
      "source": [
        "***качество кластеров снизилось и менне .7. Нужно тюнить)***"
      ]
    },
    {
      "cell_type": "markdown",
      "metadata": {
        "id": "fY8FY1FcPTE4"
      },
      "source": [
        "\n",
        "### 10.3 Домашнее задание высокого уровня\n",
        "\n",
        "Загрузите датасет `clustering_hw.csv` из приложенной директории `data` и визуализируйте данные. Должно получится как-то так:\n",
        "\n",
        "![clustering_hw](https://248006.selcdn.ru/public/DS.%20Block%202.%20M7/clustering_hw.png)\n",
        "\n",
        "В рамках домашней работы\n",
        "\n",
        "1. вычислите оптимальное количество кластеров $k$\n",
        "1. обучите k-means с количеством кластеров  $k$\n",
        "1. к какому кластеру принадлежит точка $x=(5, 8)$? к какому кластеру принадлежит точка $x=(0, 5)$? Они принадлежат к разным кластерам или одному?\n",
        "1. Каково качество кластеризации по AMI"
      ]
    },
    {
      "cell_type": "code",
      "metadata": {
        "id": "kOes1Xrldwh8"
      },
      "source": [
        "import pandas as pd"
      ],
      "execution_count": 25,
      "outputs": []
    },
    {
      "cell_type": "code",
      "metadata": {
        "id": "4XJifI-CPTE5",
        "colab": {
          "base_uri": "https://localhost:8080/",
          "height": 329
        },
        "outputId": "074c7977-2c88-4476-9c3b-48e881f32d16"
      },
      "source": [
        "# -- ВАШ КОД ТУТ --\n",
        "df = pd.read_csv('/content/drive/MyDrive/Colab Notebooks/ML_01/CLUSTERIZATION/7.10_clustering_hw.csv')\n",
        "df.info(),\n",
        "print('-'*50)\n",
        "df.head(3)"
      ],
      "execution_count": 86,
      "outputs": [
        {
          "output_type": "stream",
          "text": [
            "<class 'pandas.core.frame.DataFrame'>\n",
            "RangeIndex: 300 entries, 0 to 299\n",
            "Data columns (total 3 columns):\n",
            " #   Column  Non-Null Count  Dtype  \n",
            "---  ------  --------------  -----  \n",
            " 0   x1      300 non-null    float64\n",
            " 1   x2      300 non-null    float64\n",
            " 2   y       300 non-null    int64  \n",
            "dtypes: float64(2), int64(1)\n",
            "memory usage: 7.2 KB\n",
            "--------------------------------------------------\n"
          ],
          "name": "stdout"
        },
        {
          "output_type": "execute_result",
          "data": {
            "text/html": [
              "<div>\n",
              "<style scoped>\n",
              "    .dataframe tbody tr th:only-of-type {\n",
              "        vertical-align: middle;\n",
              "    }\n",
              "\n",
              "    .dataframe tbody tr th {\n",
              "        vertical-align: top;\n",
              "    }\n",
              "\n",
              "    .dataframe thead th {\n",
              "        text-align: right;\n",
              "    }\n",
              "</style>\n",
              "<table border=\"1\" class=\"dataframe\">\n",
              "  <thead>\n",
              "    <tr style=\"text-align: right;\">\n",
              "      <th></th>\n",
              "      <th>x1</th>\n",
              "      <th>x2</th>\n",
              "      <th>y</th>\n",
              "    </tr>\n",
              "  </thead>\n",
              "  <tbody>\n",
              "    <tr>\n",
              "      <th>0</th>\n",
              "      <td>6.221343</td>\n",
              "      <td>4.968753</td>\n",
              "      <td>2</td>\n",
              "    </tr>\n",
              "    <tr>\n",
              "      <th>1</th>\n",
              "      <td>7.360892</td>\n",
              "      <td>8.857455</td>\n",
              "      <td>2</td>\n",
              "    </tr>\n",
              "    <tr>\n",
              "      <th>2</th>\n",
              "      <td>-0.108178</td>\n",
              "      <td>4.730723</td>\n",
              "      <td>1</td>\n",
              "    </tr>\n",
              "  </tbody>\n",
              "</table>\n",
              "</div>"
            ],
            "text/plain": [
              "         x1        x2  y\n",
              "0  6.221343  4.968753  2\n",
              "1  7.360892  8.857455  2\n",
              "2 -0.108178  4.730723  1"
            ]
          },
          "metadata": {
            "tags": []
          },
          "execution_count": 86
        }
      ]
    },
    {
      "cell_type": "code",
      "metadata": {
        "colab": {
          "base_uri": "https://localhost:8080/",
          "height": 265
        },
        "id": "Vald8KTpe6OC",
        "outputId": "5687ad0c-23f5-4ed6-ee78-17f0c8e26b2c"
      },
      "source": [
        "# визуализируем данные\n",
        "plt.scatter(df.x1.values, df.x2.values, s=20, c=df.y, marker='o',\\\n",
        "            alpha=0.8, label='data')\n",
        "plt.show();"
      ],
      "execution_count": 119,
      "outputs": [
        {
          "output_type": "display_data",
          "data": {
            "image/png": "[encoded data removed]",
            "text/plain": [
              "<Figure size 432x288 with 1 Axes>"
            ]
          },
          "metadata": {
            "tags": [],
            "needs_background": "light"
          }
        }
      ]
    },
    {
      "cell_type": "code",
      "metadata": {
        "id": "MHLNcbHFhVFx"
      },
      "source": [
        "X = df[['x1', 'x2']].values\n",
        "y = df.y.values"
      ],
      "execution_count": 93,
      "outputs": []
    },
    {
      "cell_type": "code",
      "metadata": {
        "id": "-7zGSZDMg3Mh"
      },
      "source": [
        "from scipy.spatial.distance import euclidean\n",
        "from sklearn.metrics.pairwise import euclidean_distances"
      ],
      "execution_count": 65,
      "outputs": []
    },
    {
      "cell_type": "code",
      "metadata": {
        "colab": {
          "base_uri": "https://localhost:8080/"
        },
        "id": "S6nq_EBQgtL6",
        "outputId": "6929fbd6-050b-448a-a30f-515039d4e972"
      },
      "source": [
        "# Реализуем алгоритм поиска наилучшего количества кластеров\n",
        "metrics = []\n",
        "MAX_CLUSTERS = 10\n",
        "for cluster_num in range(1, MAX_CLUSTERS):\n",
        "    kmeans_model = KMeans(n_clusters=cluster_num, random_state=42).fit(X)\n",
        "    centroids, labels = kmeans_model.cluster_centers_, kmeans_model.labels_\n",
        "    metric = 0\n",
        "    for centroid_label in range(cluster_num):\n",
        "      metric += euclidean_distances(X[labels==centroid_label],\\\n",
        "                                    centroids[centroid_label,:].reshape(1,-1))\\\n",
        "                                    .sum(axis=0)[0]\n",
        "    print(f\"cluster_num {cluster_num}, metric {metric}\")\n",
        "    metrics.append(metric)"
      ],
      "execution_count": 89,
      "outputs": [
        {
          "output_type": "stream",
          "text": [
            "cluster_num 1, metric 1105.8973781101083\n",
            "cluster_num 2, metric 663.5712032768099\n",
            "cluster_num 3, metric 374.6589714184062\n",
            "cluster_num 4, metric 347.75283628371415\n",
            "cluster_num 5, metric 323.6619533289141\n",
            "cluster_num 6, metric 300.02137264227906\n",
            "cluster_num 7, metric 282.6149333679352\n",
            "cluster_num 8, metric 265.73509491034645\n",
            "cluster_num 9, metric 248.70135596630297\n"
          ],
          "name": "stdout"
        }
      ]
    },
    {
      "cell_type": "code",
      "metadata": {
        "colab": {
          "base_uri": "https://localhost:8080/",
          "height": 282
        },
        "id": "-gSR9jP1h2ic",
        "outputId": "5412a9dd-3233-439d-b027-a993c1227155"
      },
      "source": [
        "# Визуализируем зависимость метрики от количества кластеров на графике\n",
        "# и покажем оптимальное количество кластеров\n",
        "D = []\n",
        "for i in range(0, len(metrics)-1):\n",
        "    d = abs(metrics[i+1]-metrics[i])/abs(metrics[i]-metrics[i-1])\n",
        "    D.append(d)\n",
        "print(f\"best cluster num: {(np.argmin(D)+1)}\")\n",
        "\n",
        "plt.plot([i+1 for i in range(len(metrics))], metrics)\n",
        "plt.show();"
      ],
      "execution_count": 90,
      "outputs": [
        {
          "output_type": "stream",
          "text": [
            "best cluster num: 3\n"
          ],
          "name": "stdout"
        },
        {
          "output_type": "display_data",
          "data": {
            "image/png": "[encoded data removed]",
            "text/plain": [
              "<Figure size 432x288 with 1 Axes>"
            ]
          },
          "metadata": {
            "tags": [],
            "needs_background": "light"
          }
        }
      ]
    },
    {
      "cell_type": "code",
      "metadata": {
        "colab": {
          "base_uri": "https://localhost:8080/",
          "height": 35
        },
        "id": "u6oWfFuPkGgC",
        "outputId": "dd927d98-aea3-41a6-e7fb-f358f3e97e8b"
      },
      "source": [
        "# обучаем KMeans с количествой кластеров k=3\n",
        "kmeans_model_goal = KMeans(n_clusters=3, random_state=42).fit(X)\n",
        "# Качество кластеризации по AMI\n",
        "score = adjusted_mutual_info_score(y, kmeans_model_goal.labels_,\\\n",
        "                                   average_method='arithmetic')\n",
        "\n",
        "f'Качество кластеризации по метрике AMI при k=4 {round(score, 4)}'"
      ],
      "execution_count": 94,
      "outputs": [
        {
          "output_type": "execute_result",
          "data": {
            "application/vnd.google.colaboratory.intrinsic+json": {
              "type": "string"
            },
            "text/plain": [
              "'Качество кластеризации по метрике AMI при k=4 0.97'"
            ]
          },
          "metadata": {
            "tags": []
          },
          "execution_count": 94
        }
      ]
    },
    {
      "cell_type": "code",
      "metadata": {
        "colab": {
          "base_uri": "https://localhost:8080/",
          "height": 35
        },
        "id": "qibeHCFiplYK",
        "outputId": "8c125714-e51e-45aa-bc0f-c15fbda9b7e4"
      },
      "source": [
        "# Прверяем принадлежность к классам\n",
        "point_1 = np.array([0, 5]).reshape(1, -1)\n",
        "point_2 = np.array([5, 8]).reshape(1, -1)\n",
        "\n",
        "f\"Кластер первой точки: {kmeans_model_goal.predict(point_1)[0]} \\\n",
        "Кластер второй точки: {kmeans_model_goal.predict(point_2)[0]}\""
      ],
      "execution_count": 121,
      "outputs": [
        {
          "output_type": "execute_result",
          "data": {
            "application/vnd.google.colaboratory.intrinsic+json": {
              "type": "string"
            },
            "text/plain": [
              "'Кластер первой точки: 0 Кластер второй точки: 1'"
            ]
          },
          "metadata": {
            "tags": []
          },
          "execution_count": 121
        }
      ]
    },
    {
      "cell_type": "markdown",
      "metadata": {
        "id": "kDLlpA-vje7E"
      },
      "source": [
        "***При достижении третьего кластера график стал пологим. По правилу локтя определяем оптимальное количество кластеров = 3\n",
        "score AMI = .97 близок к единице, значит качество разделения на кластеры хорошее. Точки принадлежат к разным кластерам*** "
      ]
    },
    {
      "cell_type": "markdown",
      "metadata": {
        "id": "28VnuIijPTE8"
      },
      "source": [
        "### Заключение\n",
        "\n",
        "Мы познакомились с двумя метриками\n",
        "\n",
        "* Silhouette. Её используем, когда есть только сами объекты, а метки кластеров отсутствуют в обучающей выборке\n",
        "* AMI. Её используем, когда известны \"истинные\" метки кластеров\n",
        "\n",
        "Метрик намного больше - о них можно почитать [ в документации sklearn](https://scikit-learn.org/stable/modules/classes.html#clustering-metrics)"
      ]
    },
    {
      "cell_type": "code",
      "metadata": {
        "id": "tm_ipxKhPTE9"
      },
      "source": [
        ""
      ],
      "execution_count": null,
      "outputs": []
    }
  ]
}