{
  "nbformat": 4,
  "nbformat_minor": 0,
  "metadata": {
    "colab": {
      "name": "jun_ml_linear_regression_I_hw_11.ipynb",
      "provenance": [],
      "collapsed_sections": [],
      "toc_visible": true,
      "include_colab_link": true
    },
    "kernelspec": {
      "display_name": "Python 3",
      "language": "python",
      "name": "python3"
    },
    "language_info": {
      "codemirror_mode": {
        "name": "ipython",
        "version": 3
      },
      "file_extension": ".py",
      "mimetype": "text/x-python",
      "name": "python",
      "nbconvert_exporter": "python",
      "pygments_lexer": "ipython3",
      "version": "3.6.3"
    }
  },
  "cells": [
    {
      "cell_type": "markdown",
      "metadata": {
        "id": "view-in-github",
        "colab_type": "text"
      },
      "source": [
        "<a href=\"https://colab.research.google.com/github/sviteribuben/ML_01/blob/main/jun_ml_linear_regression_I_hw_11.ipynb\" target=\"_parent\"><img src=\"https://colab.research.google.com/assets/colab-badge.svg\" alt=\"Open In Colab\"/></a>"
      ]
    },
    {
      "cell_type": "markdown",
      "metadata": {
        "id": "cisB24TazhU2"
      },
      "source": [
        "### Урок 11. Домашняя работа\n",
        "\n",
        "**Задание простого уровня** Мы говорили, что метрики качества нужны, чтобы сравнивать различные модели между собой. В задаче полиномиальной регрессии реализуйте код для выбора лучшей степени полиному:\n",
        "\n",
        "* возьмите все степени от 1 до 10 по порядку, без пропусков.\n",
        "* найдите степень полинома, где будет лучший r2-score\n",
        "* напишите код, который выводит самую подходящую степень полинома и соответствующий ей скор\n",
        "\n",
        "Эта процедура называется Grid Search и помогает найти лучшие параметры для модели.\n",
        "\n",
        "Обучите лучшую модель и сделайте predict"
      ]
    },
    {
      "cell_type": "code",
      "metadata": {
        "colab": {
          "base_uri": "https://localhost:8080/"
        },
        "id": "aPpGDTQ_zS9Z",
        "outputId": "c3371973-3499-40d5-a7c2-4a0462fc5e7a"
      },
      "source": [
        "from google.colab import drive\n",
        "drive.mount('/content/drive')"
      ],
      "execution_count": 4,
      "outputs": [
        {
          "output_type": "stream",
          "text": [
            "Mounted at /content/drive\n"
          ],
          "name": "stdout"
        }
      ]
    },
    {
      "cell_type": "code",
      "metadata": {
        "id": "k3CG1YhJfjeT"
      },
      "source": [
        "#necessary imports\n",
        "import numpy as np\n",
        "import pandas as pd\n",
        "from sklearn.metrics import r2_score\n",
        "from sklearn.linear_model import LinearRegression\n",
        "from numpy.linalg import inv\n",
        "from sklearn.datasets import load_boston\n",
        "from sklearn.preprocessing import StandardScaler\n",
        "from sklearn.model_selection import train_test_split"
      ],
      "execution_count": 2,
      "outputs": []
    },
    {
      "cell_type": "code",
      "metadata": {
        "colab": {
          "base_uri": "https://localhost:8080/",
          "height": 204
        },
        "id": "nnNNwnXyzxn-",
        "outputId": "7e551a2b-d6e6-4e99-f3de-91809f281466"
      },
      "source": [
        "data = pd.read_csv('/content/drive/MyDrive/Colab Notebooks/ML_01/3.10_non_linear.csv', sep=',')\n",
        "data.head()"
      ],
      "execution_count": 5,
      "outputs": [
        {
          "output_type": "execute_result",
          "data": {
            "text/html": [
              "<div>\n",
              "<style scoped>\n",
              "    .dataframe tbody tr th:only-of-type {\n",
              "        vertical-align: middle;\n",
              "    }\n",
              "\n",
              "    .dataframe tbody tr th {\n",
              "        vertical-align: top;\n",
              "    }\n",
              "\n",
              "    .dataframe thead th {\n",
              "        text-align: right;\n",
              "    }\n",
              "</style>\n",
              "<table border=\"1\" class=\"dataframe\">\n",
              "  <thead>\n",
              "    <tr style=\"text-align: right;\">\n",
              "      <th></th>\n",
              "      <th>x_train</th>\n",
              "      <th>y_train</th>\n",
              "    </tr>\n",
              "  </thead>\n",
              "  <tbody>\n",
              "    <tr>\n",
              "      <th>0</th>\n",
              "      <td>0.138368</td>\n",
              "      <td>0.838812</td>\n",
              "    </tr>\n",
              "    <tr>\n",
              "      <th>1</th>\n",
              "      <td>0.157237</td>\n",
              "      <td>0.889313</td>\n",
              "    </tr>\n",
              "    <tr>\n",
              "      <th>2</th>\n",
              "      <td>0.188684</td>\n",
              "      <td>1.430040</td>\n",
              "    </tr>\n",
              "    <tr>\n",
              "      <th>3</th>\n",
              "      <td>0.685553</td>\n",
              "      <td>1.717309</td>\n",
              "    </tr>\n",
              "    <tr>\n",
              "      <th>4</th>\n",
              "      <td>0.874237</td>\n",
              "      <td>2.032588</td>\n",
              "    </tr>\n",
              "  </tbody>\n",
              "</table>\n",
              "</div>"
            ],
            "text/plain": [
              "    x_train   y_train\n",
              "0  0.138368  0.838812\n",
              "1  0.157237  0.889313\n",
              "2  0.188684  1.430040\n",
              "3  0.685553  1.717309\n",
              "4  0.874237  2.032588"
            ]
          },
          "metadata": {
            "tags": []
          },
          "execution_count": 5
        }
      ]
    },
    {
      "cell_type": "code",
      "metadata": {
        "colab": {
          "base_uri": "https://localhost:8080/"
        },
        "id": "98y7-zj6EzOg",
        "outputId": "cafafec2-d5f2-4b3f-858e-05b75ec54955"
      },
      "source": [
        "# Функция принимает одномерный массив, а отдает n-мерный    \n",
        "# Для каждой степени от 1 до pow возводит x в степень\n",
        "def pow_array(source: list, pow: int):\n",
        "    return np.array([source ** n for n in range(1, pow + 1)]).T\n",
        "\n",
        "# обучаем на полученных данных предсказываем и отдаем скор\n",
        "def r2_score_polynom(pow, data):\n",
        "    X = pow_array(data.x_train, pow)\n",
        "    model = LinearRegression().fit(X, data.y_train)\n",
        "    y_pred = model.predict(X)\n",
        "    error = r2_score(data.y_train, y_pred)\n",
        "    return error\n",
        "\n",
        "# Ищем лучший скоре и отдаем степень полинома\n",
        "def best_polynom(data, max_n):\n",
        "    errors = np.array([r2_score_polynom(n, data) for n in range(1,max_n+1)])    \n",
        "    best_pow = np.argmax(errors) + 1\n",
        "    return best_pow, errors[best_pow - 1] \n",
        "\n",
        "res = best_polynom(data, 10)\n",
        "print(f'Подходящая степень полинома {res[0]}, ошибка {res[1]}')"
      ],
      "execution_count": 6,
      "outputs": [
        {
          "output_type": "stream",
          "text": [
            "Подходящая степень полинома 10, ошибка 0.9091133831302721\n"
          ],
          "name": "stdout"
        }
      ]
    },
    {
      "cell_type": "code",
      "metadata": {
        "colab": {
          "base_uri": "https://localhost:8080/"
        },
        "id": "ZVorrW0vI8JR",
        "outputId": "3cd70bda-f000-4f87-c578-5e0b2c013da1"
      },
      "source": [
        "X = pow_array(data.x_train, 10)\n",
        "\n",
        "model = LinearRegression().fit(X, data.y_train)\n",
        "y_pred = model.predict(X)\n",
        "y_pred"
      ],
      "execution_count": 7,
      "outputs": [
        {
          "output_type": "execute_result",
          "data": {
            "text/plain": [
              "array([ 0.88210087,  1.01897613,  1.21593655,  1.90777396,  1.89320069,\n",
              "        1.96799163,  1.99510718,  2.00255718,  2.05113546,  2.05904866,\n",
              "        2.0713552 ,  2.08488909,  2.08789356,  2.05782449,  1.96152903,\n",
              "        1.70752917,  1.25295923,  1.19221974,  1.03691947,  1.00291066,\n",
              "        0.88643146,  0.87018974,  0.48418427,  0.44549173,  0.29608621,\n",
              "        0.26126525,  0.20252307,  0.19922484,  0.17116334,  0.15216138,\n",
              "        0.15216138,  0.1507041 ,  0.14577298,  0.13117666,  0.09362252,\n",
              "        0.08594862,  0.0727596 ,  0.06757111, -0.00888383, -0.00456115,\n",
              "        0.00499671,  0.0586598 ,  0.10034343,  0.22510023,  0.27123162,\n",
              "        0.37545156,  0.56831668,  0.96442799,  0.9351922 ,  0.9351922 ])"
            ]
          },
          "metadata": {
            "tags": []
          },
          "execution_count": 7
        }
      ]
    },
    {
      "cell_type": "markdown",
      "metadata": {
        "id": "z3dSmlAFzhU9"
      },
      "source": [
        "**Задание среднего уровня** Напишите класс для обучения модели, который содержит:\n",
        "\n",
        "* функцию `.fit(X, y)` , которая принимает на вход массив фичей `X`, массив таргетов `y` и обучает коэффициенты регрессии. Код для обучения взять из первого урока модуля *Постановка ML задачи линейной регрессии*\n",
        "* функцию `.predict(X)`, которая по массиву фичей `X` возвращает массив предсказаний `y`\n",
        "\n",
        "Нужно использовать код для аналитически вычисляемых коэффициентов. \n",
        "\n",
        "Это задание позволит понять, как работает линейная регрессия \"внутри\" библиотечной реализации."
      ]
    },
    {
      "cell_type": "code",
      "metadata": {
        "colab": {
          "base_uri": "https://localhost:8080/"
        },
        "id": "AqgkTt4bthCD",
        "outputId": "546b07de-a1db-402d-ec6d-1eb615ccffe3"
      },
      "source": [
        "class CustomLinearReg:\n",
        "\n",
        "    def init(self):\n",
        "        self.w = None\n",
        "\n",
        "    def fit(self, X, y):\n",
        "        X = np.insert(X, 0, 1, axis=1)\n",
        "        self.w = np.linalg.inv(X.T.dot(X)).dot(X.T).dot(y)\n",
        "\n",
        "    def predict(self, X):\n",
        "        Y_model = self.w[1][0]*X + self.w[0][0]\n",
        "        return Y_model\n",
        "\n",
        "reg = CustomLinearReg()\n",
        "X = data.x_train.values.reshape(-1, 1)\n",
        "y = data.y_train.values.reshape(-1, 1)\n",
        "reg.fit(X,y)\n",
        "\n",
        "y_pred = reg.predict(X)\n",
        "print(r2_score(y_pred, y))"
      ],
      "execution_count": 20,
      "outputs": [
        {
          "output_type": "stream",
          "text": [
            "0.07495867693964542\n"
          ],
          "name": "stdout"
        }
      ]
    },
    {
      "cell_type": "code",
      "metadata": {
        "id": "rayvZFx1zhU9",
        "colab": {
          "base_uri": "https://localhost:8080/"
        },
        "outputId": "ca24f00a-a55d-4e35-cfaf-33bf81a2c1ef"
      },
      "source": [
        "class CustomLinearReg:\n",
        "\n",
        "    def __init__(self):\n",
        "        self.w = []\n",
        "    \n",
        "    def fit(self, X, y):\n",
        "        X_new = [1 for i in range(1 + len(X) -1)] + X\n",
        "        X_new = np.array(X_new).reshape(-1, 2, order='F')\n",
        "        Y_new = np.array(y).reshape(-1, 1)\n",
        "        X_T_X = (X_new.T).dot(X_new)\n",
        "        X_T_X_inverted = inv(X_T_X)\n",
        "        self.w = X_T_X_inverted.dot(X_new.T).dot(Y_new)\n",
        "        return self\n",
        "    \n",
        "    def predict(self,X):\n",
        "        X_new = [1 for i in range(1 + len(X) - 1)] + X\n",
        "        X_new = np.array(X_new).reshape(-1, 2, order='F')\n",
        "        return X_new.dot(self.w)\n",
        "\n",
        "# Check\n",
        "x_temp = [10, 60, 90, 110]\n",
        "y_temp = [50, 62, 86, 151]\n",
        "\n",
        "reg = CustomLinearReg().fit(x_temp, y_temp)\n",
        "\n",
        "reg.predict(x_temp)"
      ],
      "execution_count": 8,
      "outputs": [
        {
          "output_type": "execute_result",
          "data": {
            "text/plain": [
              "array([[ 36.46255507],\n",
              "       [ 80.62555066],\n",
              "       [107.12334802],\n",
              "       [124.78854626]])"
            ]
          },
          "metadata": {
            "tags": []
          },
          "execution_count": 8
        }
      ]
    },
    {
      "cell_type": "markdown",
      "metadata": {
        "id": "uwWP7aPOzhVA"
      },
      "source": [
        "**Задание высокого уровня**\n",
        "\n",
        "1. разделите датасет с домами Бостона из Урока 2 (таргет и фичи) на две части: в одной части 80% датасета (назовём train) в другой 20% (назовём valid) с помощью функции `train_test_split` из библиотеки `sklearn`\n",
        "1. обучите модель только на train датасете\n",
        "1. постройте предсказания valid датасете\n",
        "1. Посчитайте  `r2 score` на валидационном сете\n",
        "\n",
        "После этого примените к обеим датасетам z-преобразование и повторите шаги 2-4. Как изменилась метрика r2?\n",
        "\n",
        "Это задание поможет понять, как валидировать линейную регрессию (и другие модели) на отложенной выборке."
      ]
    },
    {
      "cell_type": "code",
      "metadata": {
        "id": "f6p8B0VB5mHa",
        "colab": {
          "base_uri": "https://localhost:8080/"
        },
        "outputId": "b76ee03b-46b0-4a02-f653-d48aa60cc8ca"
      },
      "source": [
        "boston_dataset = load_boston()\n",
        "\n",
        "boston_dataset.keys(), \\\n",
        "boston_dataset.feature_names, \\\n",
        "boston_dataset.target[:3], \\\n",
        "boston_dataset.data[:3]"
      ],
      "execution_count": 9,
      "outputs": [
        {
          "output_type": "execute_result",
          "data": {
            "text/plain": [
              "(dict_keys(['data', 'target', 'feature_names', 'DESCR', 'filename']),\n",
              " array(['CRIM', 'ZN', 'INDUS', 'CHAS', 'NOX', 'RM', 'AGE', 'DIS', 'RAD',\n",
              "        'TAX', 'PTRATIO', 'B', 'LSTAT'], dtype='<U7'),\n",
              " array([24. , 21.6, 34.7]),\n",
              " array([[6.3200e-03, 1.8000e+01, 2.3100e+00, 0.0000e+00, 5.3800e-01,\n",
              "         6.5750e+00, 6.5200e+01, 4.0900e+00, 1.0000e+00, 2.9600e+02,\n",
              "         1.5300e+01, 3.9690e+02, 4.9800e+00],\n",
              "        [2.7310e-02, 0.0000e+00, 7.0700e+00, 0.0000e+00, 4.6900e-01,\n",
              "         6.4210e+00, 7.8900e+01, 4.9671e+00, 2.0000e+00, 2.4200e+02,\n",
              "         1.7800e+01, 3.9690e+02, 9.1400e+00],\n",
              "        [2.7290e-02, 0.0000e+00, 7.0700e+00, 0.0000e+00, 4.6900e-01,\n",
              "         7.1850e+00, 6.1100e+01, 4.9671e+00, 2.0000e+00, 2.4200e+02,\n",
              "         1.7800e+01, 3.9283e+02, 4.0300e+00]]))"
            ]
          },
          "metadata": {
            "tags": []
          },
          "execution_count": 9
        }
      ]
    },
    {
      "cell_type": "code",
      "metadata": {
        "colab": {
          "base_uri": "https://localhost:8080/",
          "height": 204
        },
        "id": "xkt6Jm24cw3C",
        "outputId": "7e6dc389-b907-46ce-b004-c106e2516db3"
      },
      "source": [
        "boston = pd.DataFrame(boston_dataset.data, columns=boston_dataset.feature_names)\n",
        "boston.head()"
      ],
      "execution_count": 10,
      "outputs": [
        {
          "output_type": "execute_result",
          "data": {
            "text/html": [
              "<div>\n",
              "<style scoped>\n",
              "    .dataframe tbody tr th:only-of-type {\n",
              "        vertical-align: middle;\n",
              "    }\n",
              "\n",
              "    .dataframe tbody tr th {\n",
              "        vertical-align: top;\n",
              "    }\n",
              "\n",
              "    .dataframe thead th {\n",
              "        text-align: right;\n",
              "    }\n",
              "</style>\n",
              "<table border=\"1\" class=\"dataframe\">\n",
              "  <thead>\n",
              "    <tr style=\"text-align: right;\">\n",
              "      <th></th>\n",
              "      <th>CRIM</th>\n",
              "      <th>ZN</th>\n",
              "      <th>INDUS</th>\n",
              "      <th>CHAS</th>\n",
              "      <th>NOX</th>\n",
              "      <th>RM</th>\n",
              "      <th>AGE</th>\n",
              "      <th>DIS</th>\n",
              "      <th>RAD</th>\n",
              "      <th>TAX</th>\n",
              "      <th>PTRATIO</th>\n",
              "      <th>B</th>\n",
              "      <th>LSTAT</th>\n",
              "    </tr>\n",
              "  </thead>\n",
              "  <tbody>\n",
              "    <tr>\n",
              "      <th>0</th>\n",
              "      <td>0.00632</td>\n",
              "      <td>18.0</td>\n",
              "      <td>2.31</td>\n",
              "      <td>0.0</td>\n",
              "      <td>0.538</td>\n",
              "      <td>6.575</td>\n",
              "      <td>65.2</td>\n",
              "      <td>4.0900</td>\n",
              "      <td>1.0</td>\n",
              "      <td>296.0</td>\n",
              "      <td>15.3</td>\n",
              "      <td>396.90</td>\n",
              "      <td>4.98</td>\n",
              "    </tr>\n",
              "    <tr>\n",
              "      <th>1</th>\n",
              "      <td>0.02731</td>\n",
              "      <td>0.0</td>\n",
              "      <td>7.07</td>\n",
              "      <td>0.0</td>\n",
              "      <td>0.469</td>\n",
              "      <td>6.421</td>\n",
              "      <td>78.9</td>\n",
              "      <td>4.9671</td>\n",
              "      <td>2.0</td>\n",
              "      <td>242.0</td>\n",
              "      <td>17.8</td>\n",
              "      <td>396.90</td>\n",
              "      <td>9.14</td>\n",
              "    </tr>\n",
              "    <tr>\n",
              "      <th>2</th>\n",
              "      <td>0.02729</td>\n",
              "      <td>0.0</td>\n",
              "      <td>7.07</td>\n",
              "      <td>0.0</td>\n",
              "      <td>0.469</td>\n",
              "      <td>7.185</td>\n",
              "      <td>61.1</td>\n",
              "      <td>4.9671</td>\n",
              "      <td>2.0</td>\n",
              "      <td>242.0</td>\n",
              "      <td>17.8</td>\n",
              "      <td>392.83</td>\n",
              "      <td>4.03</td>\n",
              "    </tr>\n",
              "    <tr>\n",
              "      <th>3</th>\n",
              "      <td>0.03237</td>\n",
              "      <td>0.0</td>\n",
              "      <td>2.18</td>\n",
              "      <td>0.0</td>\n",
              "      <td>0.458</td>\n",
              "      <td>6.998</td>\n",
              "      <td>45.8</td>\n",
              "      <td>6.0622</td>\n",
              "      <td>3.0</td>\n",
              "      <td>222.0</td>\n",
              "      <td>18.7</td>\n",
              "      <td>394.63</td>\n",
              "      <td>2.94</td>\n",
              "    </tr>\n",
              "    <tr>\n",
              "      <th>4</th>\n",
              "      <td>0.06905</td>\n",
              "      <td>0.0</td>\n",
              "      <td>2.18</td>\n",
              "      <td>0.0</td>\n",
              "      <td>0.458</td>\n",
              "      <td>7.147</td>\n",
              "      <td>54.2</td>\n",
              "      <td>6.0622</td>\n",
              "      <td>3.0</td>\n",
              "      <td>222.0</td>\n",
              "      <td>18.7</td>\n",
              "      <td>396.90</td>\n",
              "      <td>5.33</td>\n",
              "    </tr>\n",
              "  </tbody>\n",
              "</table>\n",
              "</div>"
            ],
            "text/plain": [
              "      CRIM    ZN  INDUS  CHAS    NOX  ...  RAD    TAX  PTRATIO       B  LSTAT\n",
              "0  0.00632  18.0   2.31   0.0  0.538  ...  1.0  296.0     15.3  396.90   4.98\n",
              "1  0.02731   0.0   7.07   0.0  0.469  ...  2.0  242.0     17.8  396.90   9.14\n",
              "2  0.02729   0.0   7.07   0.0  0.469  ...  2.0  242.0     17.8  392.83   4.03\n",
              "3  0.03237   0.0   2.18   0.0  0.458  ...  3.0  222.0     18.7  394.63   2.94\n",
              "4  0.06905   0.0   2.18   0.0  0.458  ...  3.0  222.0     18.7  396.90   5.33\n",
              "\n",
              "[5 rows x 13 columns]"
            ]
          },
          "metadata": {
            "tags": []
          },
          "execution_count": 10
        }
      ]
    },
    {
      "cell_type": "code",
      "metadata": {
        "colab": {
          "base_uri": "https://localhost:8080/"
        },
        "id": "_6MBqlpZXOjr",
        "outputId": "f9cf3681-188b-4306-82c0-8752d28ba4bc"
      },
      "source": [
        "boston.isnull().sum()"
      ],
      "execution_count": 11,
      "outputs": [
        {
          "output_type": "execute_result",
          "data": {
            "text/plain": [
              "CRIM       0\n",
              "ZN         0\n",
              "INDUS      0\n",
              "CHAS       0\n",
              "NOX        0\n",
              "RM         0\n",
              "AGE        0\n",
              "DIS        0\n",
              "RAD        0\n",
              "TAX        0\n",
              "PTRATIO    0\n",
              "B          0\n",
              "LSTAT      0\n",
              "dtype: int64"
            ]
          },
          "metadata": {
            "tags": []
          },
          "execution_count": 11
        }
      ]
    },
    {
      "cell_type": "code",
      "metadata": {
        "id": "Hf4nU0iU3AqF"
      },
      "source": [
        "boston_dataset = load_boston()\n",
        "X = boston_dataset.data\n",
        "Y = boston_dataset.target"
      ],
      "execution_count": 16,
      "outputs": []
    },
    {
      "cell_type": "code",
      "metadata": {
        "colab": {
          "base_uri": "https://localhost:8080/"
        },
        "id": "YzcAOMdJ4fbf",
        "outputId": "2146b305-de11-4dbf-cb3c-1de6bfdd5c2a"
      },
      "source": [
        "#splittint data 80% - train / 20% \n",
        "X_train, X_valid, y_train, y_valid = train_test_split(X, Y, test_size = 0.2, random_state=42)\n",
        "print(X_train.shape)\n",
        "print(X_valid.shape)\n",
        "print(y_train.shape)\n",
        "print(y_valid.shape)"
      ],
      "execution_count": 17,
      "outputs": [
        {
          "output_type": "stream",
          "text": [
            "(404, 13)\n",
            "(102, 13)\n",
            "(404,)\n",
            "(102,)\n"
          ],
          "name": "stdout"
        }
      ]
    },
    {
      "cell_type": "code",
      "metadata": {
        "colab": {
          "base_uri": "https://localhost:8080/"
        },
        "id": "Z7bQxfYOWNGN",
        "outputId": "fb8bade9-e4aa-4432-ece7-285c03059ba7"
      },
      "source": [
        "# обучаем моедель\n",
        "reg = LinearRegression().fit(X_train, y_train)\n",
        "# предсказываем по валидационной выборке\n",
        "y_pred = reg.predict(X_valid)\n",
        "# получаем r2 score\n",
        "r2_1 = r2_score(y_valid, y_pred)\n",
        "y_train_2 = StandardScaler().fit_transform(y_train.reshape(-1,1)).reshape(-1) \n",
        "y_valid_2 = StandardScaler().fit_transform(y_valid.reshape(-1,1)).reshape(-1)\n",
        "reg = LinearRegression().fit(X_train, y_train_2)\n",
        "y_pred = reg.predict(X_valid)\n",
        "r2_2 = r2_score(y_valid_2, y_pred)\n",
        "print(f'R2 до преобразования {r2_1}, после - {r2_2}')"
      ],
      "execution_count": 15,
      "outputs": [
        {
          "output_type": "stream",
          "text": [
            "R2 до преобразования 0.6709339839115633, после - 0.5696363020639074\n"
          ],
          "name": "stdout"
        }
      ]
    },
    {
      "cell_type": "markdown",
      "metadata": {
        "id": "jhX49UzSekC5"
      },
      "source": [
        "R2 score сократился. После Z преобразования ошибка не уменьшилась("
      ]
    },
    {
      "cell_type": "code",
      "metadata": {
        "id": "zB-UmAv1czIR",
        "colab": {
          "base_uri": "https://localhost:8080/"
        },
        "outputId": "15f51ac5-4cec-4b08-c9c5-1ca4949b1384"
      },
      "source": [
        "# another way\n",
        "X_train, X_valid, y_train, y_valid = train_test_split(X, Y, test_size = 0.2, random_state=42)\n",
        "\n",
        "model_straight = LinearRegression().fit(X_train, y_train)\n",
        "y_pred_straight = model_straight.predict(X_valid)\n",
        "r2_score_straight = r2_score(y_valid, y_pred_straight)\n",
        "\n",
        "print('r2_score_straight = %.8f' % r2_score_straight)\n",
        "\n",
        "scaler = StandardScaler()\n",
        "scaler_y = StandardScaler()\n",
        "\n",
        "X_train_z, X_valid_z = scaler.fit_transform(X_train), scaler.transform(X_valid)\n",
        "y_train_z, y_valid_z = scaler_y.fit_transform(y_train.reshape(-1, 1)).ravel(), scaler_y.transform(y_valid.reshape(-1, 1)).ravel()\n",
        "\n",
        "model_z = LinearRegression().fit(X_train_z, y_train_z)\n",
        "\n",
        "y_pred_normalized = model_z.predict(X_valid_z)\n",
        "\n",
        "r2_score_normalized = r2_score(y_valid_z, y_pred_normalized)\n",
        "\n",
        "print('r2_score_normalized = %.8f' % r2_score_normalized)\n"
      ],
      "execution_count": 19,
      "outputs": [
        {
          "output_type": "stream",
          "text": [
            "r2_score_straight = 0.66875949\n",
            "r2_score_normalized = 0.66875949\n"
          ],
          "name": "stdout"
        }
      ]
    },
    {
      "cell_type": "code",
      "metadata": {
        "id": "Adb9xSlDq0nZ"
      },
      "source": [
        ""
      ],
      "execution_count": null,
      "outputs": []
    }
  ]
}