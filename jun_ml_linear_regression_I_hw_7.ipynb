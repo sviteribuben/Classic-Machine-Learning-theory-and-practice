{
  "nbformat": 4,
  "nbformat_minor": 0,
  "metadata": {
    "colab": {
      "name": "jun_ml_linear_regression_I_hw_7.ipynb",
      "provenance": [],
      "collapsed_sections": [],
      "include_colab_link": true
    },
    "kernelspec": {
      "display_name": "Python 3",
      "language": "python",
      "name": "python3"
    },
    "language_info": {
      "codemirror_mode": {
        "name": "ipython",
        "version": 3
      },
      "file_extension": ".py",
      "mimetype": "text/x-python",
      "name": "python",
      "nbconvert_exporter": "python",
      "pygments_lexer": "ipython3",
      "version": "3.6.3"
    }
  },
  "cells": [
    {
      "cell_type": "markdown",
      "metadata": {
        "id": "view-in-github",
        "colab_type": "text"
      },
      "source": [
        "<a href=\"https://colab.research.google.com/github/sviteribuben/ML_01/blob/main/jun_ml_linear_regression_I_hw_7.ipynb\" target=\"_parent\"><img src=\"https://colab.research.google.com/assets/colab-badge.svg\" alt=\"Open In Colab\"/></a>"
      ]
    },
    {
      "cell_type": "markdown",
      "metadata": {
        "id": "Kj4RcGot8CZV"
      },
      "source": [
        "### Урок 7. Домашняя работа\n",
        "\n",
        "У вас есть два набора точек – истинные значения *y_true* и предсказанные значения *y_pred*\n",
        "\n",
        "* для каждой точки из *y_true* постройте величину ошибки $e = y-\\hat{y}$ – это называется **остатки регрессии**\n",
        "* возведите ошибки в квадрат $e^2$\n",
        "* постройте график ошибок – зависимость $e^2$ от $e$"
      ]
    },
    {
      "cell_type": "code",
      "metadata": {
        "id": "YS5vFeVt8CZb"
      },
      "source": [
        "import numpy as np\n",
        "\n",
        "y_pred_ = np.array([30.0, 25.03, 30.57, 28.61, 27.94, 25.26, 23.0, 19.54, 11.52, 18.92, 19.0, 21.59, 20.91, 19.55, 19.28, 19.3, 20.53, 16.91, 16.18, 18.41, 12.52, 17.67, 15.83, 13.81, 15.68, 13.39, 15.46, 14.71, 19.55, 20.88, 11.46, 18.06, 8.81, 14.28, 13.71, 23.81, 22.34, 23.11, 22.92, 31.36])\n",
        "y_true_ = np.array([24.0, 21.6, 34.7, 33.4, 36.2, 28.7, 22.9, 27.1, 16.5, 18.9, 15.0, 18.9, 21.7, 20.4, 18.2, 19.9, 23.1, 17.5, 20.2, 18.2, 13.6, 19.6, 15.2, 14.5, 15.6, 13.9, 16.6, 14.8, 18.4, 21.0, 12.7, 14.5, 13.2, 13.1, 13.5, 18.9, 20.0, 21.0, 24.7, 30.8])"
      ],
      "execution_count": null,
      "outputs": []
    },
    {
      "cell_type": "code",
      "metadata": {
        "colab": {
          "base_uri": "https://localhost:8080/"
        },
        "id": "uGVk_ZPlER0F",
        "outputId": "7d623508-36e4-48d2-deac-645f88e4a591"
      },
      "source": [
        "# для каждой точки из y_true постройте величину ошибки  e=y−y^  – это называется остатки регрессии\n",
        "e =  y_true_ - y_pred_\n",
        "e2 = [i**2 for i in e]\n",
        "e3 = np.square(e) # в массиве будут числа в экспоненциальной записи. сделал по разному.\n",
        "e, e2, e3\n",
        "\n",
        "# , np.power(np.abs(e), 2), \n",
        "# np.power(np.float64(e), 2)"
      ],
      "execution_count": null,
      "outputs": [
        {
          "output_type": "execute_result",
          "data": {
            "text/plain": [
              "(array([-6.  , -3.43,  4.13,  4.79,  8.26,  3.44, -0.1 ,  7.56,  4.98,\n",
              "        -0.02, -4.  , -2.69,  0.79,  0.85, -1.08,  0.6 ,  2.57,  0.59,\n",
              "         4.02, -0.21,  1.08,  1.93, -0.63,  0.69, -0.08,  0.51,  1.14,\n",
              "         0.09, -1.15,  0.12,  1.24, -3.56,  4.39, -1.18, -0.21, -4.91,\n",
              "        -2.34, -2.11,  1.78, -0.56]),\n",
              " [36.0,\n",
              "  11.764899999999997,\n",
              "  17.05690000000002,\n",
              "  22.94409999999999,\n",
              "  68.22760000000002,\n",
              "  11.833599999999985,\n",
              "  0.010000000000000285,\n",
              "  57.15360000000003,\n",
              "  24.800400000000003,\n",
              "  0.0004000000000001251,\n",
              "  16.0,\n",
              "  7.236100000000007,\n",
              "  0.6240999999999987,\n",
              "  0.7224999999999964,\n",
              "  1.166400000000004,\n",
              "  0.35999999999999743,\n",
              "  6.6049000000000015,\n",
              "  0.34809999999999985,\n",
              "  16.160399999999996,\n",
              "  0.04410000000000036,\n",
              "  1.1664,\n",
              "  3.724899999999999,\n",
              "  0.396900000000001,\n",
              "  0.4760999999999993,\n",
              "  0.006400000000000012,\n",
              "  0.2600999999999998,\n",
              "  1.2996000000000012,\n",
              "  0.008099999999999975,\n",
              "  1.322500000000005,\n",
              "  0.014400000000000239,\n",
              "  1.537599999999996,\n",
              "  12.673599999999992,\n",
              "  19.27209999999999,\n",
              "  1.3923999999999994,\n",
              "  0.04410000000000036,\n",
              "  24.1081,\n",
              "  5.475599999999999,\n",
              "  4.452099999999998,\n",
              "  3.1683999999999912,\n",
              "  0.31359999999999855],\n",
              " array([3.60000e+01, 1.17649e+01, 1.70569e+01, 2.29441e+01, 6.82276e+01,\n",
              "        1.18336e+01, 1.00000e-02, 5.71536e+01, 2.48004e+01, 4.00000e-04,\n",
              "        1.60000e+01, 7.23610e+00, 6.24100e-01, 7.22500e-01, 1.16640e+00,\n",
              "        3.60000e-01, 6.60490e+00, 3.48100e-01, 1.61604e+01, 4.41000e-02,\n",
              "        1.16640e+00, 3.72490e+00, 3.96900e-01, 4.76100e-01, 6.40000e-03,\n",
              "        2.60100e-01, 1.29960e+00, 8.10000e-03, 1.32250e+00, 1.44000e-02,\n",
              "        1.53760e+00, 1.26736e+01, 1.92721e+01, 1.39240e+00, 4.41000e-02,\n",
              "        2.41081e+01, 5.47560e+00, 4.45210e+00, 3.16840e+00, 3.13600e-01]))"
            ]
          },
          "metadata": {
            "tags": []
          },
          "execution_count": 61
        }
      ]
    },
    {
      "cell_type": "code",
      "metadata": {
        "id": "90jZwyMeQJio"
      },
      "source": [
        "from matplotlib import pyplot as plt\n",
        "\n",
        "%matplotlib inline"
      ],
      "execution_count": null,
      "outputs": []
    },
    {
      "cell_type": "code",
      "metadata": {
        "colab": {
          "base_uri": "https://localhost:8080/",
          "height": 592
        },
        "id": "mARhzUb6QCRH",
        "outputId": "c48d970e-dfe7-4e02-f7fb-6494d986aeb2"
      },
      "source": [
        "fig = plt.figure(figsize=(10, 10))\n",
        "ax = plt.axes()\n",
        "ax.scatter(e, e3, alpha=0.8, )\n",
        "plt.show()"
      ],
      "execution_count": null,
      "outputs": [
        {
          "output_type": "display_data",
          "data": {
            "image/png": "[encoded data removed]",
            "text/plain": [
              "<Figure size 720x720 with 1 Axes>"
            ]
          },
          "metadata": {
            "tags": [],
            "needs_background": "light"
          }
        }
      ]
    },
    {
      "cell_type": "code",
      "metadata": {
        "id": "trA6E7lGRgQV"
      },
      "source": [
        ""
      ],
      "execution_count": null,
      "outputs": []
    }
  ]
}